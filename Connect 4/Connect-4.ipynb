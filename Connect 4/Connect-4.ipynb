{
 "cells": [
  {
   "cell_type": "markdown",
   "id": "5fcc81ea-4674-4606-9030-143403aba5a3",
   "metadata": {},
   "source": [
    "---\n",
    "<div align=\"center\">\n",
    "\n",
    "# Connect-4 [Artificial Intelligence Project]\n",
    "</div>\n",
    "\n",
    "---"
   ]
  },
  {
   "cell_type": "markdown",
   "id": "8d1cfbe5-902e-4da4-824d-f1fd983f7256",
   "metadata": {},
   "source": [
    "<div align=\"center\">\n",
    "\n",
    "## Search Problem \n",
    "</div>\n",
    "\n",
    "A Search Problem is composed by multiple factors:\n",
    "- States (Any possible configuration of the Board)\n",
    "- Initial and Goal States\n",
    "- Action Space (actions and their effects on the environment)\n",
    "- Action Cost"
   ]
  },
  {
   "cell_type": "markdown",
   "id": "d2843a54-75ca-48ad-aa00-631411d91e8f",
   "metadata": {},
   "source": [
    "---"
   ]
  },
  {
   "cell_type": "code",
   "execution_count": 1,
   "id": "68ce779e-e9cf-43b3-a11c-9de64c5f0a58",
   "metadata": {},
   "outputs": [
    {
     "name": "stdout",
     "output_type": "stream",
     "text": [
      "pygame 2.5.2 (SDL 2.28.3, Python 3.8.0)\n",
      "Hello from the pygame community. https://www.pygame.org/contribute.html\n"
     ]
    }
   ],
   "source": [
    "import numpy as np\n",
    "from copy import (deepcopy)\n",
    "import pygame"
   ]
  },
  {
   "cell_type": "code",
   "execution_count": 2,
   "id": "2fd29599-706b-4855-8e92-e755e2af555b",
   "metadata": {},
   "outputs": [],
   "source": [
    "class Connect4:\n",
    "    # Defining Board's Size\n",
    "    NROWS = 6\n",
    "    NCOLS = 7\n",
    "    \n",
    "    def __init__(self, board_config=None):\n",
    "        # Matrix to Store the Board's Values\n",
    "        self.board = np.zeros(shape=(self.NROWS, self.NCOLS), dtype=np.int8) if board_config is None else board_config\n",
    "\n",
    "        # Array to keep track of the row's index for every column where a piece can be placed\n",
    "        # Basically it's the Row idx for every column's height\n",
    "        self.columns_height = np.full(shape=self.NCOLS, fill_value=(self.NROWS - 1), dtype=np.int8)\n",
    "\n",
    "        # Defining the Possible Actions (Initially a piece can be placed in any column)\n",
    "        self.actions = set()\n",
    "        [self.actions.add(col) for col in range(self.NCOLS)]\n",
    "        \n",
    "        # Initializing a variable to track the current player\n",
    "        self.player = 1\n",
    "        \n",
    "        # Variable to store the Winner (-1 - Game still running || 0 - Tie || 1 - PLayer 1 || 2 - Player 2 / AI)\n",
    "        self.winner = - 1\n",
    "\n",
    "    def valid_move(self, ncol):\n",
    "        # Checking if a move can be made (which is basically checking if the collumn is already full)\n",
    "        return (ncol >= 0 and ncol < self.NCOLS) and (self.board[0][ncol] == 0)\n",
    "\n",
    "    # --> NEEDS TO BE MODIFIED\n",
    "    # The move method must return a new instance of the class with the next bord's cfg\n",
    "    def move(self, ncol, player):\n",
    "        if (self.valid_move(ncol)):\n",
    "            # Looping through the column (Bottom -> Up) where we want to insert a piece\n",
    "            for (nrow, item) in enumerate(self.board[:, ncol][::-1]):\n",
    "                if (item == 0):\n",
    "                    self.board[self.NROWS - nrow - 1][ncol] = player\n",
    "                    return True\n",
    "        return False\n",
    "\n",
    "    def is_over(self):\n",
    "        # To Implement (Check for any 4 piece combination)\n",
    "        pass\n",
    "\n",
    "    def run(self):\n",
    "        # To Implement (Create Main Loop)\n",
    "        pass\n",
    "    \n",
    "    def __str__(self):\n",
    "        CODE = {0:'-', 1:'X', 2:'O'} # Maybe helpfull to convert the board into the same style as in the Assignment 1 Paper\n",
    "        return str(self.board)\n",
    "\n",
    "    def __hash__(self):\n",
    "        return hash(str(self.board))\n",
    "\n",
    "    def __eq__(self, other:object):\n",
    "        if (not isinstance(other, Connect4)):\n",
    "            return False\n",
    "        return hash(self) == hash(other)"
   ]
  },
  {
   "cell_type": "code",
   "execution_count": 3,
   "id": "aaa59ebd-b40d-432f-a805-3f7d48e090ef",
   "metadata": {},
   "outputs": [
    {
     "name": "stdout",
     "output_type": "stream",
     "text": [
      "[[0 0 0 0 0 0 0]\n",
      " [0 0 0 0 0 0 0]\n",
      " [0 0 0 0 0 0 0]\n",
      " [0 0 0 0 0 0 0]\n",
      " [0 0 0 0 0 0 0]\n",
      " [0 0 0 0 0 0 0]]\n"
     ]
    }
   ],
   "source": [
    "game = Connect4()\n",
    "print(game)"
   ]
  },
  {
   "cell_type": "code",
   "execution_count": 4,
   "id": "e97335d5-8fdd-4d4d-b34a-a7139d2a85d7",
   "metadata": {},
   "outputs": [
    {
     "name": "stdout",
     "output_type": "stream",
     "text": [
      "[5 5 5 5 5 5 5]\n"
     ]
    }
   ],
   "source": [
    "print(game.columns_height)"
   ]
  },
  {
   "cell_type": "code",
   "execution_count": 5,
   "id": "a9e03445-dead-4517-bc1b-860395dd47ce",
   "metadata": {},
   "outputs": [
    {
     "name": "stdout",
     "output_type": "stream",
     "text": [
      "{0, 1, 2, 3, 4, 5, 6}\n"
     ]
    }
   ],
   "source": [
    "print(game.actions)"
   ]
  },
  {
   "cell_type": "code",
   "execution_count": 6,
   "id": "6b5c2f6a-21f8-40da-b8f2-126e6ec53f71",
   "metadata": {},
   "outputs": [
    {
     "name": "stdout",
     "output_type": "stream",
     "text": [
      "[[0 0 0 0 0 0 0]\n",
      " [0 0 0 0 0 0 0]\n",
      " [0 0 0 0 0 0 0]\n",
      " [0 0 0 0 0 0 0]\n",
      " [1 0 0 0 0 0 0]\n",
      " [1 0 1 0 0 0 0]]\n"
     ]
    }
   ],
   "source": [
    "game.move(0, 1)\n",
    "game.move(2, 1)\n",
    "game.move(0, 1)\n",
    "print(game.board)"
   ]
  },
  {
   "cell_type": "markdown",
   "id": "ef94b95b",
   "metadata": {},
   "source": [
    "---\n",
    "<div align=\"center\">\n",
    "\n",
    "## Graphical User Interface\n",
    "</div>\n",
    "\n",
    "---"
   ]
  },
  {
   "cell_type": "code",
   "execution_count": 7,
   "id": "e97f75a2",
   "metadata": {},
   "outputs": [],
   "source": [
    "class GUI:\n",
    "    # Screen Parameters\n",
    "    SQSIZE = 80\n",
    "    X_OFFSET = 60\n",
    "    Y_OFFSET = 60\n",
    "\n",
    "    # RGB Colors\n",
    "    BLACK = (0, 0, 0)\n",
    "    WHITE = (255, 255, 255)\n",
    "    BLUE = (135,206,250)\n",
    "    \n",
    "    def __init__(self):\n",
    "        self.game = Connect4()\n",
    "        self.WIDTH = self.game.NCOLS*self.SQSIZE + 2*self.X_OFFSET\n",
    "        self.HEIGHT = self.game.NROWS*self.SQSIZE + 2*self.Y_OFFSET\n",
    "\n",
    "    def draw(self, screen):\n",
    "        screen.fill(self.BLUE)\n",
    "    \n",
    "    def run(self):\n",
    "\n",
    "        # Initialization of the Window / Screen\n",
    "        screen = pygame.display.set_mode((self.WIDTH, self.HEIGHT))\n",
    "        pygame.display.set_caption(\"Connect-4\")\n",
    "\n",
    "        # Create a Flag to keep track of current state of the Application / GUI\n",
    "        run = True\n",
    "\n",
    "        # Main Loop\n",
    "        while run:\n",
    "\n",
    "            # Draws the Game Elements into the Screen\n",
    "            self.draw(screen)\n",
    "            \n",
    "            # Event Loop\n",
    "            for event in pygame.event.get():\n",
    "                if (event.type == pygame.QUIT):\n",
    "                    run = False\n",
    "\n",
    "            # Updates the Window\n",
    "            pygame.display.update()\n",
    "        pygame.quit()"
   ]
  },
  {
   "cell_type": "code",
   "execution_count": 8,
   "id": "3cca2c80-19c9-499e-b9a0-bd289e41891f",
   "metadata": {},
   "outputs": [],
   "source": [
    "App = GUI()"
   ]
  },
  {
   "cell_type": "code",
   "execution_count": 9,
   "id": "47d9d844-a2b0-43a5-b286-9da28c462356",
   "metadata": {},
   "outputs": [],
   "source": [
    "App.run()"
   ]
  },
  {
   "cell_type": "code",
   "execution_count": null,
   "id": "f6e03295-4a8c-4fb6-a1f4-b9a2e64ae8c0",
   "metadata": {},
   "outputs": [],
   "source": []
  }
 ],
 "metadata": {
  "kernelspec": {
   "display_name": "Python 3 (ipykernel)",
   "language": "python",
   "name": "python3"
  },
  "language_info": {
   "codemirror_mode": {
    "name": "ipython",
    "version": 3
   },
   "file_extension": ".py",
   "mimetype": "text/x-python",
   "name": "python",
   "nbconvert_exporter": "python",
   "pygments_lexer": "ipython3",
   "version": "3.8.0"
  }
 },
 "nbformat": 4,
 "nbformat_minor": 5
}
