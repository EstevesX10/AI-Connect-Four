{
 "cells": [
  {
   "cell_type": "markdown",
   "id": "5fcc81ea-4674-4606-9030-143403aba5a3",
   "metadata": {},
   "source": [
    "<div align=\"center\">\n",
    "\n",
    "---\n",
    "# Connect-4 [Artificial Intelligence Project]\n",
    "---\n",
    "</div>"
   ]
  },
  {
   "cell_type": "markdown",
   "id": "caffbf5a-5a4e-4dfd-909c-ec6f5f6eb1c8",
   "metadata": {},
   "source": [
    "<div align=\"center\">\n",
    "\n",
    "***\n",
    "## Problem Presentation\n",
    "***\n",
    "</div>\n",
    "    \n",
    "**Connect Four** is a **two-player strategy game** similar to tic-tac-toe. It is played using 42 tokens (21 red & 21 black) inside a grid of **7 columns by 6 rows** where both players take **turns**\n",
    "\n",
    "A **player's move** consists of dropping one of his tokens into a column of his choice where it falls until it hits the bottom or the top token in that column. In addition, if the chosen column is **already full** then the player must choose another one.\n",
    "\n",
    "A **player wins** by creating an arrangement in which at least **four of his tokens** are aligned in a **row**, **column** or **diagonal** (**ascending or descending**). Therefore if the **board is full with tokens** whilst not having formed any kind of arrangement, then the match results in a **Tie** between both players."
   ]
  },
  {
   "cell_type": "markdown",
   "id": "c19abb7b-24e0-4154-a1be-0a83c394318a",
   "metadata": {},
   "source": [
    "<div align=\"center\">\n",
    "\n",
    "---\n",
    "## Search Problem Formulation\n",
    "---\n",
    "</div>\n",
    "\n",
    "\n",
    "To properly solve this Connect-4 Problem it's crucial to formulate it as **Search Problem**. As any other search problem it's important to take into consideration the following aspects:\n",
    "- **State Representation**\n",
    "- **Initial (Current) State**\n",
    "- **Objective Test** (Determines the wanted states - Final States)\n",
    "- **Action Space** (Actions - Defined by **Preconditions**, **Effects** and **Cost** on the Environment)\n",
    "- **Solution Cost**\n",
    "\n",
    "### State Representation\n",
    "Since our game is played upon a NxM grid we can consider it as a **Matrix**. In this matrix every position represents either the **presence** or the **absence** of a player's piece. In this case we considered:\n",
    "\n",
    "    0 - Represents a Empty Space\n",
    "    1 - Represents a Player 1's Piece\n",
    "    2 - Represents a Player 2's Piece\n",
    "\n",
    "### Initial (Current) State\n",
    "Initially the board is completely **Empty** which causes the NxM matrix to be entirely **filled with 0's**. Moreover, any other states can be considered as any possible board's configuration which means that they were accessed by making **valid moves** upon the initial state.\n",
    "\n",
    "### Objective Test\n",
    "In order to determine if we've found a Objective State it's important to evaluate the current board's configuration. If it contains a **4-piece combination [Horizontal / Vertical Lines or Ascending / Ascending Diagonals]** from the **same type** then one of the player's won the game and we reached a final state. Otherwise the state isn't final unless the board is **totally full** which means that none of the players won.\n",
    "\n",
    "### Action Space\n",
    "The **Action Space** contains all the possible moves that can be made into any board configuration columns as long as the column selected isn't full.\n",
    "\n",
    "### Solution Cost\n",
    "Since any solution is composed by the path between the initial and final states, it's cost relies as the sum of all steps's cost. However, since each step costs 1, then the solution's cost becomes the total number of steps taken to solve the problem."
   ]
  },
  {
   "cell_type": "markdown",
   "id": "d2843a54-75ca-48ad-aa00-631411d91e8f",
   "metadata": {},
   "source": [
    "<div align=\"center\">\n",
    "\n",
    "---\n",
    "## State Space [Class]\n",
    "---\n",
    "</div>\n",
    "    \n",
    "In this section we took into consideration the **implemention** of the game's state which will be later used by search algorithms in order to find a **solution to our problem**.\n",
    "\n",
    "Since the **State Representation** can greatly impact the solution's effectiveness and efficiency, it's important to design it properly!"
   ]
  },
  {
   "cell_type": "code",
   "execution_count": 1,
   "id": "68ce779e-e9cf-43b3-a11c-9de64c5f0a58",
   "metadata": {},
   "outputs": [
    {
     "name": "stdout",
     "output_type": "stream",
     "text": [
      "pygame 2.5.2 (SDL 2.28.3, Python 3.10.0)\n",
      "Hello from the pygame community. https://www.pygame.org/contribute.html\n"
     ]
    }
   ],
   "source": [
    "%load_ext autoreload\n",
    "%autoreload 2\n",
    "\n",
    "# Importing Dependencies\n",
    "import numpy as np\n",
    "from copy import (deepcopy)\n",
    "from time import (time)\n",
    "from math import (sqrt, log)\n",
    "import random as rd\n",
    "from IPython.display import (clear_output) # Helps clear the output of cells without having to do it manually\n",
    "import heapq\n",
    "import pandas as pd\n",
    "import matplotlib.pyplot as plt\n",
    "import seaborn as sns\n",
    "import pygame"
   ]
  },
  {
   "cell_type": "code",
   "execution_count": 2,
   "id": "380afc65-1a1b-4b3f-b76c-843e2557f942",
   "metadata": {},
   "outputs": [],
   "source": [
    "# Defining some Constants (That are used throughout the Project)\n",
    "\n",
    "# Defining Board's Size\n",
    "NROWS = 6\n",
    "NCOLS = 7\n",
    "\n",
    "# Some Parameters for the Graphical User Interface\n",
    "# Screen Parameters\n",
    "SQSIZE = 80\n",
    "X_OFFSET = 60\n",
    "Y_OFFSET = 100\n",
    "BORDER_THICKNESS = 10\n",
    "WIDTH = NCOLS*SQSIZE + 2*X_OFFSET\n",
    "HEIGHT = NROWS*SQSIZE + 2*Y_OFFSET\n",
    "\n",
    "# Circle - Screen Parameters\n",
    "CIRCLE_OFFSET = 10\n",
    "CIRCLE_POS = (X_OFFSET + SQSIZE//2, Y_OFFSET + SQSIZE//2)\n",
    "CIRCLE_RADIUS = (SQSIZE//2) - CIRCLE_OFFSET\n",
    "\n",
    "# RGB Colors\n",
    "BLACK = (0, 0, 0)\n",
    "WHITE = (255, 255, 255)\n",
    "\n",
    "LIGHT_BLUE = (135, 206, 250)\n",
    "BLUE = (102, 178, 255)\n",
    "DARK_BLUE = (0, 76, 153)\n",
    "\n",
    "RED = (189, 22, 44)\n",
    "DARK_RED = (151, 18, 35)\n",
    "\n",
    "GREEN = (0, 204, 102)\n",
    "DARK_GREEN = (0, 153, 76)\n",
    "\n",
    "# Defining a Array with the Piece's Colors [Tuple: (BORDER, INNER CIRCLE)]\n",
    "PIECES_COLORS = [(DARK_BLUE, BLUE),        # Empty Pieces\n",
    "                (DARK_RED, RED),          # Player 1\n",
    "                (DARK_GREEN, GREEN)]      # Player 2"
   ]
  },
  {
   "cell_type": "code",
   "execution_count": 3,
   "id": "2fd29599-706b-4855-8e92-e755e2af555b",
   "metadata": {},
   "outputs": [],
   "source": [
    "class Connect_Four_State:\n",
    "    def __init__(self):\n",
    "        # Matrix to Store the Board's Values\n",
    "        self.board = np.zeros(shape=(NROWS, NCOLS), dtype=np.int8)\n",
    "\n",
    "        # Array to keep track of the row's index for every column where a piece can be placed\n",
    "        # Basically it's the Row idx for every column's height\n",
    "        self.columns_height = np.full(shape=NCOLS, fill_value=(NROWS - 1), dtype=np.int8)\n",
    "\n",
    "        # Defining the Possible Actions (Initially a piece can be placed in any column)\n",
    "        self.actions = np.arange(NCOLS, dtype=np.int8)\n",
    "        \n",
    "        # Initializing a variable to track the current player\n",
    "        self.current_player = 1\n",
    "        \n",
    "        # Variable to store the Winner (-1 - Game still running || 0 - Tie || 1 - PLayer 1 || 2 - Player 2 / AI)\n",
    "        self.winner = -1\n",
    "        \n",
    "        # Setting a varible to store the board's move_history\n",
    "        self.move_history = (self.board,)\n",
    "    \n",
    "    def next_player(self):\n",
    "        # Returns the next turn's player\n",
    "        return 3 - self.current_player\n",
    "\n",
    "    def previous_player(self):\n",
    "        # Returns the previous's player\n",
    "        return self.next_player()\n",
    "    \n",
    "    def is_over(self):\n",
    "        # If the Winner corresponds to -1 then the game is not finished otherwise it is\n",
    "        return self.winner != -1\n",
    "        \n",
    "    def reset(self):\n",
    "        # Calls back the Constructor\n",
    "        return self.__init__()\n",
    "    \n",
    "    def inside_board(self, x, y):\n",
    "        # Checks if a position (x,y) exists inside the board's matrix\n",
    "        return (x >= 0 and x < NROWS) and (y >= 0 and y < NCOLS)\n",
    "    \n",
    "    def move(self, ncol):\n",
    "        # The move is not valid\n",
    "        if (ncol not in self.actions):\n",
    "            return self\n",
    "\n",
    "        # Creating a new state\n",
    "        new_state = deepcopy(self)\n",
    "        \n",
    "        # Inserting the move into the board\n",
    "        nrow = new_state.columns_height[ncol]\n",
    "        new_state.board[nrow, ncol] = new_state.current_player\n",
    "        \n",
    "        # Updating the \"ncol\"'s height\n",
    "        new_state.columns_height[ncol] -= 1\n",
    "        \n",
    "        # Checking if the column is full and therefore uncapable of receiving more pieces -> Changes the action space\n",
    "        if (new_state.columns_height[ncol] < 0):\n",
    "            new_state.actions = np.delete(new_state.actions, np.where(new_state.actions == ncol))\n",
    "\n",
    "        # Updates the current Winner\n",
    "        new_state.update_winner(nrow, ncol)\n",
    "\n",
    "        # Updating current player for the next state\n",
    "        new_state.current_player = new_state.next_player()\n",
    "\n",
    "        # Updating move_history\n",
    "        new_state.move_history = (*new_state.move_history, new_state.board)\n",
    "        \n",
    "        # Returns the New State\n",
    "        return new_state\n",
    "\n",
    "    def generate_new_states(self):\n",
    "        # List to contain all the new states\n",
    "        new_states = []\n",
    "\n",
    "        # Iterates through all possible actions and creates a new state for each one\n",
    "        for ncol in self.actions:\n",
    "            new_states.append(self.move(ncol))\n",
    "\n",
    "        # Returns all generated states\n",
    "        return new_states\n",
    "    \n",
    "    def count_lines(self, n, player, nrow, ncol):\n",
    "        # -> Searches the Board looking for a 4-piece Combination\n",
    "\n",
    "        # Horizontal Line\n",
    "        row = nrow\n",
    "        counter = 0\n",
    "        for col in range(NCOLS):\n",
    "            if (self.board[row, col] == player):\n",
    "                counter += 1\n",
    "                if (counter == n):\n",
    "                    return True\n",
    "            else:\n",
    "                counter = 0\n",
    "\n",
    "        # Vertical Line\n",
    "        col = ncol\n",
    "        counter = 0\n",
    "        for row in range(NROWS):\n",
    "            if (self.board[row, col] == player):\n",
    "                counter += 1\n",
    "                if (counter == n):\n",
    "                    return True\n",
    "            else:\n",
    "                counter = 0\n",
    "\n",
    "        # Descending Diagonal Line\n",
    "        col = ncol\n",
    "        row = nrow\n",
    "        counter = 0\n",
    "        while row > 0 and col > 0:\n",
    "            row -= 1\n",
    "            col -= 1\n",
    "        while row < NROWS and col < NCOLS:\n",
    "            if (self.board[row, col] == player):\n",
    "                counter += 1\n",
    "                if (counter == n):\n",
    "                    return True\n",
    "            else:\n",
    "                counter = 0\n",
    "            row += 1\n",
    "            col += 1\n",
    "\n",
    "        # Ascending Diagonal Line\n",
    "        col = ncol\n",
    "        row = nrow\n",
    "        counter = 0\n",
    "        while row < NROWS - 1 and col > 0:\n",
    "            row += 1\n",
    "            col -= 1\n",
    "        while row >= 0 and col < NCOLS:\n",
    "            if self.board[row, col] == player:\n",
    "                counter += 1\n",
    "                if counter == n:\n",
    "                    return True\n",
    "            else:\n",
    "                counter = 0\n",
    "            row -= 1\n",
    "            col += 1\n",
    "            \n",
    "        return False\n",
    "    \n",
    "    def update_winner(self, nrow, ncol):\n",
    "        # -> Updates the Current State's Winner\n",
    "        # Checks if the Board is full already\n",
    "        if (self.actions.size == 0):\n",
    "            self.winner = 0\n",
    "            \n",
    "        # Checks for a 4-piece combination made by PLayer 1 (after he made his move)\n",
    "        elif(self.current_player == 1 and self.count_lines(4, 1, nrow, ncol)):\n",
    "            self.winner = 1\n",
    "            \n",
    "        # Checks for a 4-piece combination made by PLayer 2 (after he made his move)\n",
    "        elif(self.current_player == 2 and self.count_lines(4, 2, nrow, ncol)):\n",
    "            self.winner = 2\n",
    "\n",
    "    def read_state(self, file_path):\n",
    "        # Reads a game state from a text file into a new game state\n",
    "        new_state = Connect_Four_State()\n",
    "        \n",
    "        # Creating variables to keep track of the amount of each type of pieces\n",
    "        pieces_1 = 0\n",
    "        pieces_2 = 0\n",
    "\n",
    "        # Reading the board from the text file\n",
    "        with open(file_path, \"r\") as f:\n",
    "            lines = [line.rstrip() for line in f]\n",
    "\n",
    "        # Updates the Board Matrix\n",
    "        for i in range(len(lines)):\n",
    "            for j in range(len(lines[i])):\n",
    "                if (lines[i][j] == '-'):\n",
    "                    new_state.board[i, j] = 0\n",
    "                elif (lines[i][j] == 'X'):\n",
    "                    new_state.board[i, j] = 1\n",
    "                    pieces_1 += 1\n",
    "                elif (lines[i][j] == 'O'):\n",
    "                    new_state.board[i, j] = 2\n",
    "                    pieces_2 += 1\n",
    "\n",
    "        # Updating the Column's Heights\n",
    "        for ncol in range(len(new_state.actions)):\n",
    "            for nrow in range(NROWS - 1, 0, -1):\n",
    "                if (new_state.board[nrow, ncol] != 0):\n",
    "                    if (new_state.inside_board(ncol, nrow - 1)):\n",
    "                        new_state.columns_height[ncol] = nrow - 1\n",
    "                    else:\n",
    "                        new_state.actions = np.delete(new_state.actions, np.where(new_state.actions == ncol))\n",
    "        \n",
    "        # Updates next player\n",
    "        if (pieces_1 > pieces_2):\n",
    "            new_state.current_player = 2\n",
    "        else:\n",
    "            new_state.current_player = 1\n",
    "\n",
    "        # Updating move_history\n",
    "        new_state.move_history = (new_state.board, )\n",
    "        \n",
    "        return new_state\n",
    "    \n",
    "    \"\"\" AUXILIAR METHODS \"\"\"\n",
    "\n",
    "    def __str__(self):\n",
    "        # -> Converts the board into the style used in the Assignment 1 Paper\n",
    "        DECODER = {0:'-', 1:'X', 2:'O'}\n",
    "        line = [\"-\" for i in range(2*NCOLS -1)]\n",
    "        line.insert(0, '#')\n",
    "        line.insert(1, ' ')\n",
    "        line.insert(len(line), ' ')\n",
    "        line.insert(len(line), '#')\n",
    "        formated_line = \"\".join(line)\n",
    "        new_board = formated_line + '\\n'\n",
    "        for x in range (NROWS):\n",
    "            for y in range (NCOLS):\n",
    "                if (y == 0):\n",
    "                    new_board += \"| \" + DECODER[self.board[x, y]]\n",
    "                elif (y == NCOLS -1):\n",
    "                    new_board += \" \" + DECODER[self.board[x, y]] + \" |\"\n",
    "                else:\n",
    "                    new_board += \" \" + DECODER[self.board[x, y]]\n",
    "            new_board += '\\n'\n",
    "        new_board += formated_line\n",
    "        return new_board\n",
    "        \n",
    "    def __hash__(self):\n",
    "        return hash(str(self.board))\n",
    "\n",
    "    def __eq__(self, other:object):\n",
    "        if (not isinstance(other, Connect_Four_State)):\n",
    "            raise Exception(f\"Sorry, other object is not an instance of {self.__class__.__name__}\")\n",
    "        return hash(self) == hash(other)"
   ]
  },
  {
   "cell_type": "code",
   "execution_count": 4,
   "id": "6f6e119d-8a4e-428a-ad8e-54443720bead",
   "metadata": {},
   "outputs": [
    {
     "name": "stdout",
     "output_type": "stream",
     "text": [
      "# ------------- #\n",
      "| - - - - - - - |\n",
      "| - - - - - - - |\n",
      "| - - - - - - - |\n",
      "| - - - - - - - |\n",
      "| - - - - - - - |\n",
      "| - - - - - - - |\n",
      "# ------------- # \n",
      "\n",
      "# ------------- #\n",
      "| - - O - - - - |\n",
      "| - - X - - - - |\n",
      "| - - O - - - - |\n",
      "| - - X - - - - |\n",
      "| - - O - - - - |\n",
      "| - - X - - - - |\n",
      "# ------------- # \n",
      "\n"
     ]
    }
   ],
   "source": [
    "game = Connect_Four_State()\n",
    "print(game, \"\\n\")\n",
    "\n",
    "game = game.move(2)\n",
    "game = game.move(2)\n",
    "game = game.move(2)\n",
    "game = game.move(2)\n",
    "game = game.move(2)\n",
    "game = game.move(2)\n",
    "game = game.move(2)\n",
    "print(game, \"\\n\")"
   ]
  },
  {
   "cell_type": "markdown",
   "id": "c7eb4734-a3d4-4ae4-88cd-02dee0553fd7",
   "metadata": {},
   "source": [
    "<div align=\"center\">\n",
    "\n",
    "---\n",
    "## TreeNode [Class]\n",
    "---\n",
    "</div>\n",
    "\n",
    "In order to Implement the **Search Algorithms** we decided to create another additional class [TreeNode Class] in which the State Class will be wrapped around with. This **TreeNode** class is defined with:\n",
    "\n",
    "- **State** (Connect_Four_State Class)\n",
    "- **Parent** (Reference to the Node's Parent)\n",
    "- **Children** (List that contains all the New Nodes that can be obtained after the Current One)\n",
    "\n",
    "Moreover, it also contains other attributes that are focused on inside the **Monte Carlo Tree Search Algorithm's** Implementation such as:\n",
    "\n",
    "- **Visits** (**Total of Visits** a Node Received))\n",
    "- **Wins** (**Total Wins** a Node was capable to obtain after being subject to a **Rollout**)\n",
    "- **Unexplored_Actions** (List with all the **Actions** that are yet to be considered inside the Algorithm - mostly used in the **Expansion Phase**)"
   ]
  },
  {
   "cell_type": "code",
   "execution_count": 5,
   "id": "d7a7b8df-7f57-4bd2-bbd7-b614fb46d544",
   "metadata": {},
   "outputs": [],
   "source": [
    "class TreeNode:\n",
    "    def __init__(self, state, parent=None):\n",
    "        # Stores a State of the Game\n",
    "        self.state = state\n",
    "        # Keeps a reference to his Parent Node\n",
    "        self.parent = parent\n",
    "        # Stores all the generated nodes\n",
    "        self.children = []\n",
    "        # Initializing the number of visits [Used in the MCTS]\n",
    "        self.visits = 0\n",
    "        # Defining a variable to keep track of the amount of wins after choosing a certain node\n",
    "        self.wins = 0\n",
    "        # Declaring a variable to store all moves that were not yet explored\n",
    "        self.unexplored_actions = self.state.actions.copy()\n",
    "\n",
    "    def is_root(self):\n",
    "        # Returns if the current node is the root\n",
    "        return self.parent is None\n",
    "    \n",
    "    def is_leaf(self):\n",
    "        # Returns True if the Node does not have any children and therefore is a leaf\n",
    "        return len(self.children) == 0\n",
    "\n",
    "    def is_terminal(self):\n",
    "        # Returns if the current node contains a terminal node or not\n",
    "        return self.state.is_over()\n",
    "\n",
    "    def fully_expanded(self):\n",
    "        # Returns True if a node is fully expanded\n",
    "        return self.unexplored_actions.size == 0\n",
    "    \n",
    "    def pick_random_child(self):\n",
    "        # Picking a random unexplored_action\n",
    "        [ncol] = np.random.choice(self.unexplored_actions, size=1)\n",
    "        # Creating a new node with the random action picked\n",
    "        new_child = self.generate_new_node(ncol)\n",
    "        # Returns the New Child\n",
    "        return new_child\n",
    "            \n",
    "    def generate_new_node(self, ncol):\n",
    "        # Creates a new state after the move\n",
    "        new_state = self.state.move(ncol)\n",
    "        # Wraps it with a TreeNode\n",
    "        new_node = TreeNode(state=new_state, parent=self)\n",
    "        # Inserts the New Node into the Current Node's Children\n",
    "        self.children.append(new_node)\n",
    "        # Updating the unexplored actions\n",
    "        self.unexplored_actions = np.delete(self.unexplored_actions, np.where(self.unexplored_actions == ncol))\n",
    "        # Returns the generated Node\n",
    "        return new_node\n",
    "\n",
    "    def read_state_node(self, file_path):\n",
    "        # Reading a State\n",
    "        new_state = Connect_Four_State().read_state(file_path)\n",
    "        # Creating a new node based on the read state\n",
    "        new_node = TreeNode(state=new_state,parent=None)\n",
    "        # Returning the new node\n",
    "        return new_node\n",
    "\n",
    "    def __str__(self):\n",
    "        return str(self.state)\n",
    "    \n",
    "    def __hash__(self):\n",
    "        return hash(str(self.state) + str(self.parent) + \"\".join([str(child) for child in self.children]))\n",
    "\n",
    "    def __eq__(self, other:object):\n",
    "        if (not isinstance(other, TreeNode)):\n",
    "            raise Exception(f\"Sorry, other object is not an instance of {self.__class__.__name__}\")\n",
    "        return self.__hash__() == other.__hash__()"
   ]
  },
  {
   "cell_type": "code",
   "execution_count": 6,
   "id": "80e5986a-6bb4-4000-bad9-893eb7928935",
   "metadata": {
    "scrolled": true
   },
   "outputs": [
    {
     "name": "stdout",
     "output_type": "stream",
     "text": [
      "# ------------- #\n",
      "| - - - - - - - |\n",
      "| - - - - - - - |\n",
      "| - - - - - - - |\n",
      "| - - - - - - - |\n",
      "| - - - - - - - |\n",
      "| - - X - - - - |\n",
      "# ------------- #\n"
     ]
    }
   ],
   "source": [
    "initial_state = Connect_Four_State()\n",
    "node = TreeNode(initial_state)\n",
    "print(node.pick_random_child())"
   ]
  },
  {
   "cell_type": "markdown",
   "id": "dbd0cee9-a0a4-4d2d-8084-6bea23265c9f",
   "metadata": {},
   "source": [
    "<div align=\"center\">\n",
    "\n",
    "---\n",
    "## Search Algorithms\n",
    "---\n",
    "</div>\n",
    "\n",
    "In this section we take a look into the **Algotithms** that helped solve this Problem. We considered using Two Different Approaches within the Informed Search Strategies:\n",
    "1. **Non-Adversarial Search:**\n",
    "   - A* Search\n",
    "2. **Adversarial Search:**\n",
    "   - MiniMax with Alpha-Beta Pruning\n",
    "   - Monte Carlo Tree Search\n",
    "  \n",
    "However, since all the algorithms needed a **Heuristic** to operate properly we started by creating it."
   ]
  },
  {
   "attachments": {},
   "cell_type": "markdown",
   "id": "26f80901-46af-4b9b-915b-6b5793f6b008",
   "metadata": {},
   "source": [
    "<div align=\"center\">\n",
    "\n",
    "---\n",
    "### Heuristics\n",
    "---\n",
    "</div>\n",
    "\n",
    "#### Heuristic Suggested\n",
    "\n",
    "Firstly, we started by developing the suggested Heuristic inside the **Assignment I Paper**. It's Evaluation was based on every **4-piece combinations** inside the Board:\n",
    "\n",
    "</br>\n",
    "\n",
    "| Description         | Nº Player Pieces        | Nº Enemy Player Pieces       | Empty Spaces                    | Score        |\n",
    "|:-------------------:|:-----------------------:|:----------------------------:|:-------------------------------:|:------------:|\n",
    "| **Player Won**      | $4$                     | $0$                          | $0$                             | $+\\space512$ |\n",
    "| **3 Player Pieces** | $3$                     | $0$                          | $1$                             | $+\\space50$  |\n",
    "| **2 Player Pieces** | $2$                     | $0$                          | $2$                             | $+\\space10$  |\n",
    "| **1 Player Piece**  | $1$                     | $0$                          | $3$                             | $+\\space1$   |\n",
    "|                     |                         |                              |                                 |              |\n",
    "| **Enemy Won**       | $0$                     | $4$                          | $0$                             | $-\\space512$ |\n",
    "| **3 Enemy Pieces**  | $0$                     | $3$                          | $1$                             | $-\\space50$  |\n",
    "| **2 Enemy Pieces**  | $0$                     | $2$                          | $2$                             | $-\\space10$  |\n",
    "| **1 Enemy Piece**   | $0$                     | $1$                          | $3$                             | $-\\space1$   |\n",
    "|                     |                         |                              |                                 |              |\n",
    "| **Mixed Pieces**    | $>\\space 0$             | $>\\space 0$                  | $\\geq 0\\space$ and $<4$ | $0$          |\n",
    "| **Empty Sequence**  | $0$                     | $0$                          | $4$                             | $0$          |\n",
    "\n",
    "</br>\n",
    "\n",
    "In addition to the table's contents the **Heuristic** is also affected with the current player's turn. So, depending on the turn the heuristic would also consider a **handicap of $\\pm 16$**\n",
    "\n",
    "Moreover, we also considered the importance of **blocking the opponent's 4-piece combinations** as extra information to the heuristic (Even though we did not implemented it). In this Note, during the algorithm's turn, he must prioritize **stoping the enemy from winning** rather than making a **N-piece combination** ($N\\space\\leq\\space 3$). Therefore, by inspecting **all 4-piece sequences inside a board** (from a given state) we were able to implement the following **Heuristic** :"
   ]
  },
  {
   "cell_type": "code",
   "execution_count": 7,
   "id": "752416c4-e669-4e46-b51e-d79b753a5f1a",
   "metadata": {},
   "outputs": [],
   "source": [
    "def check_line_configuration(player, values):\n",
    "    # Counts the amount of pieces of each type\n",
    "    \n",
    "    # List with the amount of pieces for each type\n",
    "    pieces = [0, # Empty Spaces - Index 0\n",
    "              0, # Player 1 Pieces - Index 1\n",
    "              0] # Player 2 Pieces - Index 2\n",
    "    \n",
    "    # Doing a Linear Search throughout the given sequence\n",
    "    for piece_type in values:\n",
    "        pieces[piece_type] += 1\n",
    "\n",
    "    # Considering the list configuration we return the amount of pieces from each type\n",
    "    if (player == 1): # Previous Player => Player 1\n",
    "        return (pieces[1], pieces[2], pieces[0])\n",
    "    else: # Previous Player => Player 2\n",
    "        return (pieces[2], pieces[1], pieces[0])\n",
    "\n",
    "def calculate_line_score(player_pieces, enemy_pieces, empty_spaces, state, extra=False):\n",
    "    # -> Calculates the score to return based on the line configuration\n",
    "    # Defining a Score Decoder for the amount of Empty Spaces\n",
    "    SCORE_DECODER = [512,  # Idx - 0 Empty Spaces - There are 4 player's pieces\n",
    "                     50,   # Idx - 1 Empty Space  - There are 3 player's pieces\n",
    "                     10,   # Idx - 2 Empty Spaces - There are 2 player's pieces\n",
    "                     1,    # Idx - 3 Empty Spaces - There is 1 player's pieces\n",
    "                     0]    # Idx - 4 Empty Spaces - There are only empty spaces\n",
    "\n",
    "    # Initializing the Score that is going to be returned\n",
    "    score = 0\n",
    "\n",
    "    # There are player pieces\n",
    "    if (player_pieces > 0):\n",
    "        # We have both player's pieces\n",
    "        if (enemy_pieces > 0):\n",
    "            score = 0\n",
    "        # There are no enemy pieces\n",
    "        else:\n",
    "            score = SCORE_DECODER[empty_spaces]\n",
    "    else:\n",
    "        score = - SCORE_DECODER[empty_spaces]\n",
    "\n",
    "    # Returning final score evaluation for the 4-piece sequence\n",
    "    return score\n",
    "\n",
    "def calculate_score(state):\n",
    "    # -> Calculates current State Evaluation [Based on the Assignment's Suggestion]\n",
    "    # Initializes the number of lines found\n",
    "    total_score = 0\n",
    "\n",
    "    # In order to evaluate a node's heuristic we have to keep in mind the previous player \n",
    "    # because this node's score is the one that is going to influence the parent's choice upon the children\n",
    "    player = state.previous_player()\n",
    "    \n",
    "    # Adding the Handicap\n",
    "    if (player == 1):\n",
    "        total_score -= 16\n",
    "    else:\n",
    "        total_score += 16\n",
    "    \n",
    "    # Loops through the board\n",
    "    for row in range(NROWS):\n",
    "        for col in range(NCOLS):\n",
    "            # Checks a Horizontal Line\n",
    "            if col < NCOLS - 3:\n",
    "                (player_pieces, enemy_player_pieces, empty_spaces) = check_line_configuration(player, [state.board[row, col + i] for i in range(4)])\n",
    "                total_score += calculate_line_score(player_pieces, enemy_player_pieces, empty_spaces, state)\n",
    "                \n",
    "            # Checks a Vertical Line\n",
    "            if row < NROWS - 3:\n",
    "                (player_pieces, enemy_player_pieces, empty_spaces) = check_line_configuration(player, [state.board[row + i, col] for i in range(4)])\n",
    "                total_score += calculate_line_score(player_pieces, enemy_player_pieces, empty_spaces, state)\n",
    "            \n",
    "            # Checks a Descending Diagonal Line\n",
    "            if row < NROWS - 3 and col < NCOLS - 3:\n",
    "                (player_pieces, enemy_player_pieces, empty_spaces) = check_line_configuration(player, [state.board[row + i, col + i] for i in range(4)])\n",
    "                total_score += calculate_line_score(player_pieces, enemy_player_pieces, empty_spaces, state)\n",
    "    \n",
    "            # Checks a Ascending Diagonal Line\n",
    "            if col < NCOLS - 3 and row > 3:\n",
    "                (player_pieces, enemy_player_pieces, empty_spaces) = check_line_configuration(player, [state.board[row - i, col + i] for i in range(4)])\n",
    "                total_score += calculate_line_score(player_pieces, enemy_player_pieces, empty_spaces, state)\n",
    "            \n",
    "    return total_score\n",
    "\n",
    "def heuristic_suggested(state):\n",
    "    # Suggested Heuristic in the Assignment I Paper\n",
    "    return calculate_score(state)"
   ]
  },
  {
   "cell_type": "markdown",
   "id": "c6d4eab3-770e-4383-90b3-da37c2af5d0d",
   "metadata": {},
   "source": [
    "<div align=\"center\">\n",
    "\n",
    "---\n",
    "### A* Search\n",
    "---\n",
    "</div>"
   ]
  },
  {
   "cell_type": "code",
   "execution_count": 8,
   "id": "c17cb1d2-07ea-4508-963c-675e0fe03d43",
   "metadata": {},
   "outputs": [],
   "source": [
    "def A_Star_Search(initial_node, heuristic):\n",
    "\n",
    "    # Setting a method in the TreeNode Class - Compares 2 Nodes taking into consideration their parent state's heuristic as well as the respective path's cost\n",
    "    setattr(TreeNode, \"__lt__\", lambda self, other: ((heuristic(self.parent.state) - len(self.parent.state.move_history) + 1)) < (heuristic(other.parent.state) - len(other.parent.state.move_history) + 1))\n",
    "    \n",
    "    # Setting the Initial Node\n",
    "    root = initial_node\n",
    "    # Initializing a queue to help manage the generated nodes\n",
    "    queue = [root]\n",
    "    # Creating a set of visited_states so that we don't waste time generating new_states from an already visited state\n",
    "    visited_states = set()\n",
    "\n",
    "    # While we have nodes inside the queue\n",
    "    while queue:\n",
    "        \n",
    "        # Pop current_node [Using a Max Heap]\n",
    "        current_node = heapq._heappop_max(queue)\n",
    "\n",
    "        # Continue if the state was already visited\n",
    "        if current_node.state in visited_states:\n",
    "            continue\n",
    "\n",
    "        # Updating the visited_states set\n",
    "        visited_states.add(current_node.state)\n",
    "\n",
    "        # Checking if we found a Final State [if so return it]\n",
    "        if current_node.state.is_over():\n",
    "            \n",
    "            # Finding next node after the \"current_node\" inside the \"final_node\"'s nth parents\n",
    "            while current_node.parent != initial_node:\n",
    "                current_node = current_node.parent\n",
    "\n",
    "            # Returning the best next node\n",
    "            return current_node\n",
    "\n",
    "        # Generating new_states and adding them to the queue (wrapped with a TreeNode) if they were not visited\n",
    "        for new_state in current_node.state.generate_new_states():\n",
    "            if (new_state not in visited_states):\n",
    "                child = TreeNode(state=new_state, parent=current_node)\n",
    "                heapq.heappush(queue, child)\n",
    "    \n",
    "    # If we didn't found a Solution then we return None\n",
    "    return None"
   ]
  },
  {
   "cell_type": "markdown",
   "id": "36d3cce6-e589-4496-a059-18b606a8cab2",
   "metadata": {},
   "source": [
    "<div align=\"center\">\n",
    "\n",
    "---\n",
    "### MiniMax [Alpha-Beta Pruning]\n",
    "---\n",
    "</div>"
   ]
  },
  {
   "cell_type": "code",
   "execution_count": 9,
   "id": "534569ba-6c2a-43c8-af6a-b6fa8ded1ab6",
   "metadata": {},
   "outputs": [],
   "source": [
    "def execute_minimax_move(evaluate_func, depth):\n",
    "    def execute_minimax_move_aux(current_node):\n",
    "        # Initializing the best move and evaluation parameters\n",
    "        best_move = None\n",
    "        best_eval = float('-inf')\n",
    "        \n",
    "        # Looping through all possible moves and evaluating each new state [using the minmax algorithm]\n",
    "        # If they are better than the current best then they replace it\n",
    "        for ncol in current_node.state.actions:\n",
    "            new_state = current_node.state.move(ncol)\n",
    "            new_state_eval = MiniMax_Move(new_state, depth - 1, float('-inf'), float('+inf'), False, current_node.state.current_player, evaluate_func)\n",
    "            if new_state_eval > best_eval:\n",
    "                best_move = new_state\n",
    "                best_eval = new_state_eval\n",
    "        new_node = TreeNode(state=best_move, parent=current_node)\n",
    "        return new_node\n",
    "        \n",
    "    return execute_minimax_move_aux\n",
    "    \n",
    "def MiniMax_Move(state, depth, alpha, beta, maximizing, player, evaluate_func):\n",
    "    \"\"\" MinMax with Alpha-Beta Pruning - EXTRA \"\"\"\n",
    "    \n",
    "    # Reached the root [depth = 0] or found a Final State\n",
    "    if depth == 0 or state.winner != -1:\n",
    "        return abs(evaluate_func(state)) * (1 if player == 2 else -1)\n",
    "    \n",
    "    # Current layer is focused on Maximizing\n",
    "    if maximizing:\n",
    "        max_eval = float('-inf')\n",
    "        for ncol in state.actions:\n",
    "            new_state = state.move(ncol)\n",
    "            eval = MiniMax_Move(new_state, depth - 1, alpha, beta, False, 3 - player, evaluate_func)\n",
    "            max_eval = max(max_eval, eval)\n",
    "            alpha = max(alpha, eval)\n",
    "            if beta <= alpha:\n",
    "                break\n",
    "        return max_eval\n",
    "        \n",
    "    # Current layer is focused on Minimizing\n",
    "    else:\n",
    "        min_eval = float('+inf')\n",
    "        for ncol in state.actions:\n",
    "            new_state = state.move(ncol)\n",
    "            eval = MiniMax_Move(new_state, depth - 1, alpha, beta, True, 3 - player, evaluate_func)\n",
    "            min_eval = min(min_eval, eval)\n",
    "            beta = min(beta, eval)\n",
    "            if beta <= alpha:\n",
    "                break\n",
    "        return min_eval\n",
    "\n",
    "def MiniMax(node, heuristic, depth_search=5):\n",
    "    # Executing a MiniMax move with a depth search given\n",
    "    return execute_minimax_move(heuristic, depth_search)(node)"
   ]
  },
  {
   "cell_type": "markdown",
   "id": "237c3f96-c435-43b4-afac-3bbe01e0dfd0",
   "metadata": {},
   "source": [
    "<div align=\"center\">\n",
    "\n",
    "---\n",
    "### Monte Carlo Tree Search\n",
    "---\n",
    "</div>"
   ]
  },
  {
   "cell_type": "code",
   "execution_count": 10,
   "id": "b139d8f5-3ee0-421c-891a-7bc04f10c957",
   "metadata": {},
   "outputs": [],
   "source": [
    "def uct(node:TreeNode): \n",
    "    # Unvisited Nodes\n",
    "    if (node.visits == 0):\n",
    "        return float('+inf')\n",
    "\n",
    "    # Upper Confidence Bound Applied to Trees to evaluate each branch\n",
    "    return (node.wins / (node.visits + 1)) + (sqrt(2* log(node.parent.visits) / (node.visits + 1)))\n",
    "\n",
    "def best_uct(node:TreeNode):\n",
    "    # Returns the node's child with the highest uct value\n",
    "    return max(node.children, key=lambda n: uct(n))\n",
    "    \n",
    "def Expansion(node:TreeNode, heuristic): # Initially the node is the root\n",
    "    \n",
    "    # Looking for a non fully expanded node\n",
    "    while node.fully_expanded():\n",
    "        node = best_uct(node)\n",
    "    \n",
    "    # Found a Terminal Node\n",
    "    if node.is_terminal():\n",
    "        return node\n",
    "    \n",
    "    # Evaluating the Scores [based on the Heuristic] for each unexplored move and returning the best one\n",
    "    _, best_ncol = max((heuristic(node.state.move(col)), col) for col in node.unexplored_actions)\n",
    "    child = node.generate_new_node(best_ncol)\n",
    "\n",
    "    return child\n",
    "\n",
    "def rollout_policy(node:TreeNode):\n",
    "    # Applying a Rollout Policy -> in this case: Random Moves\n",
    "    return node.pick_random_child()\n",
    "\n",
    "def Rollout(node:TreeNode): # Also called Simulation\n",
    "    # Saving a link to the initial node\n",
    "    initial_node = node\n",
    "\n",
    "    # Simulating a game using only random moves [until we find a terminal board]\n",
    "    while not node.is_terminal():\n",
    "        node = rollout_policy(node)\n",
    "\n",
    "    # Updating the initial node's chldren since we are only doing Simulations\n",
    "    initial_node.children = []\n",
    "    \n",
    "    # Returns the Winner\n",
    "    return node.state.winner\n",
    "\n",
    "def update_stats(node:TreeNode, winner:int):\n",
    "    # Updating the Node's visits and the amount of Win's reached\n",
    "    node.visits += 1\n",
    "\n",
    "    # Checking for a Tie\n",
    "    if (winner == 0):\n",
    "        return\n",
    "\n",
    "    # Checking if the previous player is the winner since we are trying to evaluate his choice upon the possible moves (described as children)\n",
    "    if winner == node.state.previous_player():\n",
    "        node.wins += 1\n",
    "    \n",
    "def Backpropagation(node:TreeNode, winner:int):\n",
    "    # Updating the Node upon the Discovered Results\n",
    "    update_stats(node, winner)\n",
    "    \n",
    "    # Base Case - When we reach the root we must stop\n",
    "    if node.is_root():\n",
    "        return\n",
    "    \n",
    "    # Updating the Parent Node\n",
    "    Backpropagation(node.parent, winner)\n",
    "\n",
    "def pick_best_child(node:TreeNode):\n",
    "    # Selecting the best child [The one that was visited the most]\n",
    "    best_node = max(node.children, key=lambda n: n.visits)\n",
    "\n",
    "    # Since after exploring we are left with no possible actions in the unexplored_actions,\n",
    "    # we must reset them so that the next player can perform a valid action\n",
    "    best_node.unexplored_actions = best_node.state.actions.copy()\n",
    "    \n",
    "    # Returning best node according to the heuristic\n",
    "    return best_node\n",
    "\n",
    "def resources_left(start_time):\n",
    "    # Creating a Function that determines when to stop the MCTS Algorithm\n",
    "    TIME_TO_TRAIN = 5.0\n",
    "    return (time() - start_time) < TIME_TO_TRAIN\n",
    "\n",
    "def MCTS(root:TreeNode, heuristic):\n",
    "    # Saving the Initial Instant\n",
    "    start = time()\n",
    "    # Executing the Algorithm while there are resources left\n",
    "    while(resources_left(start)):\n",
    "        \n",
    "        # Performs Expansion\n",
    "        leaf = Expansion(root, heuristic)\n",
    "        \n",
    "        # Performs Rollout\n",
    "        Simulation_Winner = Rollout(leaf)\n",
    "        \n",
    "        # Performs Backpropagation\n",
    "        Backpropagation(leaf, Simulation_Winner)\n",
    "        \n",
    "    # Returns the Best child based on the number of visits\n",
    "    return pick_best_child(root)"
   ]
  },
  {
   "cell_type": "code",
   "execution_count": 11,
   "id": "7b83cb3f-76a7-402b-9c48-2a7a3523f20c",
   "metadata": {
    "scrolled": true
   },
   "outputs": [
    {
     "name": "stdout",
     "output_type": "stream",
     "text": [
      "# ------------- #\n",
      "| - - - - - - - |\n",
      "| - - - - - - - |\n",
      "| - - - - - - - |\n",
      "| - - - - - - - |\n",
      "| - - - - - - - |\n",
      "| - - - - - - - |\n",
      "# ------------- #\n",
      "# ------------- #\n",
      "| - - - - - - - |\n",
      "| - - - - - - - |\n",
      "| - - - - - - - |\n",
      "| - - - - - - - |\n",
      "| - - - - - - - |\n",
      "| - - - X - - - |\n",
      "# ------------- #\n",
      "TOTAL WINS: 167\n",
      "NODE VISITS: 267\n",
      "PARENT VISITS: 1095\n"
     ]
    }
   ],
   "source": [
    "# Testing and Analysing the First Iteration of the Monte Carlo Tree Search Algorithm\n",
    "root = TreeNode(state=Connect_Four_State())\n",
    "print(root)\n",
    "\n",
    "current_node = MCTS(root, heuristic_suggested)\n",
    "print(current_node)\n",
    "\n",
    "print(\"TOTAL WINS:\", current_node.wins)\n",
    "print(\"NODE VISITS:\", current_node.visits)\n",
    "print(\"PARENT VISITS:\", current_node.parent.visits)"
   ]
  },
  {
   "cell_type": "markdown",
   "id": "c1eb68c1-2588-4b45-b289-21632e1b19dc",
   "metadata": {},
   "source": [
    "<div align=\"center\">\n",
    "\n",
    "---\n",
    "## Connect_Four [Interfaces]\n",
    "---\n",
    "</div>\n",
    "    \n",
    "After Implementing all the **Algorithms** along side the necessary **Data Structures**, we decided to create **2 User Interfaces** so that the User could get a taste of the Algorithms in **Action**:\n",
    "- **Terminal User Interface**\n",
    "    - Interface mainly focused in the **user's interaction with the terminal**\n",
    "- **Graphical User Interface**\n",
    "    - Interface that takes the game into **another Level**, allowing the User to **interact more freely** with the System and not worrying about typing the actions to be performed inside the **Game**"
   ]
  },
  {
   "cell_type": "markdown",
   "id": "41d4f5f3-06cd-42ed-93ea-be272a388a26",
   "metadata": {},
   "source": [
    "<div align=\"center\">\n",
    "\n",
    "---\n",
    "### Connect_Four [Terminal User Interface]\n",
    "---\n",
    "</div>\n",
    "\n",
    "This Interface is composed by a multiple game modes where you can challange any of the previously implemented Algorithms such as:\n",
    "\n",
    "- **A\\* Search**\n",
    "- **MiniMax** with Alpha-Beta Pruning\n",
    "- **Monte Carlo Tree Search**\n",
    "\n",
    "> Since the **Terminal Interface** got quite dense, we chose **not to present** the entire extent of the code in this Notebook. Therefore, if you are interested in it, please check the custom python library __*Connect Four*__ that we developed inside the Project Folder."
   ]
  },
  {
   "cell_type": "code",
   "execution_count": 12,
   "id": "13479061-a1c0-49b1-81c0-9635c154f883",
   "metadata": {},
   "outputs": [],
   "source": [
    "from ConnectFour import (Connect_Four_Terminal_APP)"
   ]
  },
  {
   "cell_type": "code",
   "execution_count": 13,
   "id": "c6a6240a-5efc-4fec-ae2f-969bbe8130d1",
   "metadata": {},
   "outputs": [
    {
     "name": "stdout",
     "output_type": "stream",
     "text": [
      "# --------------------------------- #\n",
      "|             MAIN MENU             |\n",
      "# --------------------------------- #\n",
      "| 1 - Player vs Algorithms          |\n",
      "# --------------------------------- #\n",
      "| 0 - EXIT                          |\n",
      "# --------------------------------- #\n"
     ]
    },
    {
     "name": "stdin",
     "output_type": "stream",
     "text": [
      "  OPTION:  0\n"
     ]
    }
   ],
   "source": [
    "# Testing the Terminal Interface\n",
    "Terminal = Connect_Four_Terminal_APP()\n",
    "Terminal.run()"
   ]
  },
  {
   "attachments": {},
   "cell_type": "markdown",
   "id": "74257f69-2e76-4a58-8959-d88b3119b05b",
   "metadata": {},
   "source": [
    "<div align=\"center\">\n",
    "\n",
    "---\n",
    "### Connect_Four [Graphical User Interface]\n",
    "---\n",
    "</div>\n",
    "\n",
    "The **Game's graphical user interface (GUI)** captivates with a sleek and intuitive design with **various opponents** to choose from that will give you a fun yet challenging time while playing a simple game of Connect Four. However, in order to **create it** we needed to implement a few more classes:\n",
    "\n",
    "- **Image** and **Button** (Helps create a **navigation system** in the interface)\n",
    "- **Connect_Four_GUI_APP** (Main Class responsible to add all the features together to **recreate the Connect Four Game**)\n",
    "\n",
    "> Once again, if you are interested in the full extent of the code, please check the code inside the __*Connect Four*__ library we have developed.\n",
    "\n",
    "Similarly to the **previous Interface**, this one also contains multiple game modes where you can challange any of the previously **implemented Algorithms** such as:\n",
    "\n",
    "- **A\\* Search**\n",
    "- **MiniMax** with Alpha-Beta Pruning\n",
    "- **Monte Carlo Tree Search**"
   ]
  },
  {
   "cell_type": "code",
   "execution_count": 14,
   "id": "0e88c12a-7618-42e5-b173-dbd196342529",
   "metadata": {},
   "outputs": [],
   "source": [
    "from ConnectFour import (Connect_Four_GUI_APP)"
   ]
  },
  {
   "cell_type": "code",
   "execution_count": 15,
   "id": "33e20e26-7e77-4072-9d09-4da56ed0fb61",
   "metadata": {
    "scrolled": true
   },
   "outputs": [],
   "source": [
    "# Testing the Graphical User Interface\n",
    "Graphical_Interface = Connect_Four_GUI_APP()\n",
    "Graphical_Interface.run()"
   ]
  },
  {
   "cell_type": "markdown",
   "id": "d3b58515-8ca0-4a53-a806-61dcbb7ada48",
   "metadata": {},
   "source": [
    "<div align=\"center\">\n",
    "\n",
    "---\n",
    "## Algorithm's Analysis\n",
    "---\n",
    "</div>\n",
    "\n",
    "In this section we are going to perform **two different types of Evaluation** upon the developed Algorithms:\n",
    "\n",
    "- **Efficiency and Complexity Analysis**\n",
    "- **Adversarial Analysis**\n",
    "\n",
    "\n",
    "On one hand, the efficiency and complexity analysis compares the **computational efficiency** between the algorithms in terms of **time and space complexity**. \n",
    "Therefore, we measured the **average time taken** for each algorithm to decide on a move and also the **memory used** during his decision making phase.\n",
    "\n",
    "On the other, a adversarial analysis allows to evaluate how well the algorithms perform **against each other** or against known **strategies**. This includes analyzing situations where one algorithm consistently outperforms the other."
   ]
  },
  {
   "cell_type": "markdown",
   "id": "7c3a4223-5bae-43e6-b5e9-5b958e9904ef",
   "metadata": {},
   "source": [
    "<div align=\"center\">\n",
    "\n",
    "---\n",
    "### Algorithm Efficiency and Complexity\n",
    "---\n",
    "</div>\n",
    "\n",
    "To analyse the **Time and Space Complexities** of every algorithm, we are going to **feed them** a state (read from a text file) and evaluate not only the **time and memory** needed to find a solution but also **it's quality**."
   ]
  },
  {
   "cell_type": "code",
   "execution_count": 16,
   "id": "d6d5667f-928c-4bc5-89fe-a8147c25c69d",
   "metadata": {},
   "outputs": [],
   "source": [
    "from ConnectFour import (Analyse_Algorithm_Time_Space, Display_Results, Analyse_Game_State)"
   ]
  },
  {
   "cell_type": "markdown",
   "id": "319fe752-04fd-4abe-8e62-63048bd708c9",
   "metadata": {},
   "source": [
    "So, in order to properly **evaluate** each algorithm, we considered their actions upon the **Following Game States**:\n",
    "\n",
    "<center><img src=\"./Assets/Game_States.png\" width=\"500\" title=\"Game States1\"></center>\n",
    "\n",
    "1. **Empty Board** &#8594; Helps Evaluate where each algorithm decides to **Play First**\n",
    "2. **Simple Board Configuration** &#8594; Helps determine if the algorithm is capable of **blocking a simple line**\n",
    "4. **Complex Board Configuration** &#8594; Helps determine if the algorithm prioritizes **stopping the opponent from winning over making a 3-piece sequence**"
   ]
  },
  {
   "cell_type": "code",
   "execution_count": 17,
   "id": "38167428-4822-47e7-b323-89bd785da7f5",
   "metadata": {},
   "outputs": [],
   "source": [
    "# Declaring the ALgorithms that are going to be analysed\n",
    "Algorithms = [A_Star_Search, MiniMax, MCTS]"
   ]
  },
  {
   "cell_type": "markdown",
   "id": "9f5ff3f4-6b66-4ed1-bdf8-3bee1d3b2106",
   "metadata": {},
   "source": [
    "<div align=\"center\">\n",
    "\n",
    "---\n",
    "#### Game State 1\n",
    "---\n",
    "</div>"
   ]
  },
  {
   "cell_type": "code",
   "execution_count": 18,
   "id": "e81bb3bb-db25-4514-9f0e-d4fad029cf46",
   "metadata": {},
   "outputs": [
    {
     "data": {
      "image/png": "[encoded data removed]",
      "text/plain": [
       "<Figure size 1000x500 with 2 Axes>"
      ]
     },
     "metadata": {},
     "output_type": "display_data"
    }
   ],
   "source": [
    "# Analysing Game State 1\n",
    "new_node = TreeNode(state=Connect_Four_State().read_state('./Game States/State_1.txt'))\n",
    "nodes = Analyse_Game_State(new_node, 'Game State 1 - Time & Space Analysis', Algorithms)"
   ]
  },
  {
   "cell_type": "markdown",
   "id": "1d9541ee-ad12-47fe-b553-cd180ec79e29",
   "metadata": {},
   "source": [
    "As we can infer from the scatterplot shown above, these algorithms tend to have **different necessities** to operate properly. While the A* Search **does not need much time and memory** to compute a possible solution, the same does not happen with the **Adversarial Search Algorithms**. \n",
    "\n",
    "When comparing MiniMax against Monte Carlo Tree Search we can clearly visualize the **time and memory differencies** both algorithms need to generate a good solution. On one hand, Monte Carlo **does not need much time (around ~5s)** to compute an answer while MiniMax's search time depends on it's depth (Since we are using depth=5 we can infer that his search time revolves around the ~6s, which makes Monte Carlo's **search faster**). Moreover, since the **board is empty** there are more possibilities that MiniMax has to consider when compared to a more **advanced board configuration** where the amount of possible moves is much lower.\n",
    "\n",
    "In Addition, while MiniMax **does not need much memory** to generate a great solution, the Monte Carlos's approach not only needs to store all the visited nodes to determine the best upper confidence bound applied for trees during it's **Selection phase** but also needs to generate thousands upon thousands of nodes due to the iterations made during it's **Simulation / Rollout Phase**. Threfore, due to this memory necessities, it's clearly that Monte Carlo Tree Search has a **greater Space Complexity** than MiniMax."
   ]
  },
  {
   "cell_type": "code",
   "execution_count": 19,
   "id": "ff7d756e-c971-4eea-a5fb-dabd3650dac3",
   "metadata": {},
   "outputs": [
    {
     "name": "stdout",
     "output_type": "stream",
     "text": [
      "[INITIAL BOARD CONFIGURATION]\n",
      "# ------------- #\n",
      "| - - - - - - - |\n",
      "| - - - - - - - |\n",
      "| - - - - - - - |\n",
      "| - - - - - - - |\n",
      "| - - - - - - - |\n",
      "| - - - - - - - |\n",
      "# ------------- # \n",
      "\n",
      "[OBTAINED RESULTS]\n",
      "\n",
      "-> A_Star_Search\n",
      "# ------------- #\n",
      "| - - - - - - - |\n",
      "| - - - - - - - |\n",
      "| - - - - - - - |\n",
      "| - - - - - - - |\n",
      "| - - - - - - - |\n",
      "| X - - - - - - |\n",
      "# ------------- # \n",
      "\n",
      "-> MiniMax\n",
      "# ------------- #\n",
      "| - - - - - - - |\n",
      "| - - - - - - - |\n",
      "| - - - - - - - |\n",
      "| - - - - - - - |\n",
      "| - - - - - - - |\n",
      "| - - X - - - - |\n",
      "# ------------- # \n",
      "\n",
      "-> MCTS\n",
      "# ------------- #\n",
      "| - - - - - - - |\n",
      "| - - - - - - - |\n",
      "| - - - - - - - |\n",
      "| - - - - - - - |\n",
      "| - - - - - - - |\n",
      "| - - - X - - - |\n",
      "# ------------- # \n",
      "\n"
     ]
    }
   ],
   "source": [
    "# Evaluating the Quality of the Solutions\n",
    "print(\"[INITIAL BOARD CONFIGURATION]\")\n",
    "print(new_node,\"\\n\")\n",
    "print(\"[OBTAINED RESULTS]\\n\")\n",
    "for i in range(len(nodes)):\n",
    "    print(\"->\", Algorithms[i].__name__)\n",
    "    print(nodes[i], \"\\n\")"
   ]
  },
  {
   "cell_type": "markdown",
   "id": "d6d0eaf7-8f2c-4868-9ed6-82b39fbe5b59",
   "metadata": {},
   "source": [
    "As we can observe from the solutions obtained, all the algorithms have **different behaviours upon an empty board**.\n",
    "\n",
    "Firstly, the A* Search algorithm chooses to play on the left corner which resembles one of the **worst moves** that can be made when placing the initial piece in the board. By placing it in the corner, the algorithm will not be able to expand the sequence to the left which makes his **odds of winning the game much lower** when compared to playing the piece in one of the central spaces. \n",
    "\n",
    "Secondly, the MiniMax algorithm seems to adopt a much **bolder choice** compared to the A* Search. By inserting a piece in **one of the middle columns** it grants him the ability to expand the current sequence more freely. However the move is **not optimal** since he cannot win the game by only placing pieces to the left of his initial one. Threfore, the **optimal move** would be to place the initial token in the **central column**.\n",
    "\n",
    "Finally, the Monte Carlo Tree Search chooses the **optimal solution**. By choosing the central column the algorithm will be **more capable** of creating 4-piece combinations since he can **expand** his current sequence on **both directions** which **increases** his **chances of winning** drastically."
   ]
  },
  {
   "cell_type": "markdown",
   "id": "79b9f545-5d27-4a5a-ae43-5fa033c728ff",
   "metadata": {},
   "source": [
    "<div align=\"center\">\n",
    "\n",
    "---\n",
    "#### Game State 2\n",
    "---\n",
    "</div>"
   ]
  },
  {
   "cell_type": "code",
   "execution_count": 20,
   "id": "7c62a299-2398-4fc9-adfa-5607c6607fc6",
   "metadata": {},
   "outputs": [
    {
     "data": {
      "image/png": "[encoded data removed]",
      "text/plain": [
       "<Figure size 1000x500 with 2 Axes>"
      ]
     },
     "metadata": {},
     "output_type": "display_data"
    }
   ],
   "source": [
    "# Analysing Game State 2\n",
    "new_node = TreeNode(state=Connect_Four_State().read_state('./Game States/State_2.txt'))\n",
    "nodes = Analyse_Game_State(new_node, 'Game State 2 - Time & Space Analysis', Algorithms)"
   ]
  },
  {
   "cell_type": "markdown",
   "id": "754964b1-c42f-4f4f-87cf-405309f2ba0e",
   "metadata": {},
   "source": [
    "As we can see from this Scatterplot, the results obtained were **almost the exact same** as in  the previous game state. However there is a **significant decrease** on the MiniMax's search time. This decrease is most likely influenced by the fact that it **must block the opponent from winning** and therefore making the possible moves it can perform **drop** drastically making it much **faster** (around ~2s) during the decision making process."
   ]
  },
  {
   "cell_type": "code",
   "execution_count": 21,
   "id": "baa512ab-222b-4143-98f4-e1f6804824af",
   "metadata": {},
   "outputs": [
    {
     "name": "stdout",
     "output_type": "stream",
     "text": [
      "[INITIAL BOARD CONFIGURATION]\n",
      "# ------------- #\n",
      "| - - - - - - - |\n",
      "| - - - - - - - |\n",
      "| - - - - - - - |\n",
      "| - - - - - - - |\n",
      "| - - - - - - - |\n",
      "| X X X - - O O |\n",
      "# ------------- # \n",
      "\n",
      "[OBTAINED RESULTS]\n",
      "\n",
      "-> A_Star_Search\n",
      "# ------------- #\n",
      "| - - - - - - - |\n",
      "| - - - - - - - |\n",
      "| - - - - - - - |\n",
      "| - - - - - - - |\n",
      "| O - - - - - - |\n",
      "| X X X - - O O |\n",
      "# ------------- # \n",
      "\n",
      "-> MiniMax\n",
      "# ------------- #\n",
      "| - - - - - - - |\n",
      "| - - - - - - - |\n",
      "| - - - - - - - |\n",
      "| - - - - - - - |\n",
      "| - - - - - - - |\n",
      "| X X X O - O O |\n",
      "# ------------- # \n",
      "\n",
      "-> MCTS\n",
      "# ------------- #\n",
      "| - - - - - - - |\n",
      "| - - - - - - - |\n",
      "| - - - - - - - |\n",
      "| - - - - - - - |\n",
      "| - - - - - - - |\n",
      "| X X X O - O O |\n",
      "# ------------- # \n",
      "\n"
     ]
    }
   ],
   "source": [
    "# Evaluating the Quality of the Solutions\n",
    "print(\"[INITIAL BOARD CONFIGURATION]\")\n",
    "print(new_node,\"\\n\")\n",
    "print(\"[OBTAINED RESULTS]\\n\")\n",
    "for i in range(len(nodes)):\n",
    "    print(\"->\", Algorithms[i].__name__)\n",
    "    print(nodes[i], \"\\n\")"
   ]
  },
  {
   "cell_type": "markdown",
   "id": "91c13d43-d807-4b13-baca-3f3a35cde376",
   "metadata": {},
   "source": [
    "By Observing the results given by the algorithms in this game state, we can easily analyse the **impact of performace** between **informed and adversarial** search strategies. As the results show, the A* Search (Simple Informed Search Algorithm) **neglects the other player's action**. This influences the algorithm to **ignore the opponent's existing 3-piece combination**. Consequently, by **not blocking** his opponent, the algorithm will most likely **lose** as the enemy finishes his 4-piece combination.\n",
    "\n",
    "However, the same does not occur with the Adversarial Search Algorithms. In these results, both MiniMax and Monte Carlo Tree Search **take into consideration the enemy's next move**. Therefore, they try to minimize the opponent's score while maximizing his own, which leads them to **block** him from making a 4-piece sequence and win the game. By performing this action, both algorithms **prevent the game from finishing** allowing them to keep playing and seeking a better score in order to **win the game**."
   ]
  },
  {
   "cell_type": "markdown",
   "id": "5b6fe078-919f-406a-80d3-7c6e47a45562",
   "metadata": {},
   "source": [
    "<div align=\"center\">\n",
    "\n",
    "---\n",
    "#### Game State 3\n",
    "---\n",
    "</div>"
   ]
  },
  {
   "cell_type": "code",
   "execution_count": 22,
   "id": "fd8e056b-1fb4-4285-a770-f6956b0cb6c7",
   "metadata": {},
   "outputs": [
    {
     "data": {
      "image/png": "[encoded data removed]",
      "text/plain": [
       "<Figure size 1000x500 with 2 Axes>"
      ]
     },
     "metadata": {},
     "output_type": "display_data"
    }
   ],
   "source": [
    "# Analysing Game State 3\n",
    "new_node = TreeNode(state=Connect_Four_State().read_state('./Game States/State_3.txt'))\n",
    "nodes = Analyse_Game_State(new_node, 'Game State 3 - Time & Space Analysis', Algorithms)"
   ]
  },
  {
   "cell_type": "markdown",
   "id": "091ea880-7ec6-4cff-91c6-fbbff710525b",
   "metadata": {},
   "source": [
    "Once again the results transposed to this Scatterplot were **almost the same** as the ones on the previous game state. \n",
    "\n",
    "One more time we can visualize a **significant decrease** in the MiniMax's search time (compared to it' search time in the Game State 1). This decrease most likely comes from the **need to block the opponent from winning** which makes the amount of possible moves **drop** drastically making the search much **faster** (around ~2s) during the decision making process."
   ]
  },
  {
   "cell_type": "code",
   "execution_count": 23,
   "id": "622b2ec9-4e4f-4b33-90a4-045cb3402bf2",
   "metadata": {},
   "outputs": [
    {
     "name": "stdout",
     "output_type": "stream",
     "text": [
      "[INITIAL BOARD CONFIGURATION]\n",
      "# ------------- #\n",
      "| - - - - - - - |\n",
      "| - - - - - - - |\n",
      "| - - - - - - - |\n",
      "| O - X X - - - |\n",
      "| O X O X - - - |\n",
      "| X X O O X O - |\n",
      "# ------------- # \n",
      "\n",
      "[OBTAINED RESULTS]\n",
      "\n",
      "-> A_Star_Search\n",
      "# ------------- #\n",
      "| - - - - - - - |\n",
      "| - - - - - - - |\n",
      "| O - - - - - - |\n",
      "| O - X X - - - |\n",
      "| O X O X - - - |\n",
      "| X X O O X O - |\n",
      "# ------------- # \n",
      "\n",
      "-> MiniMax\n",
      "# ------------- #\n",
      "| - - - - - - - |\n",
      "| - - - - - - - |\n",
      "| - - - O - - - |\n",
      "| O - X X - - - |\n",
      "| O X O X - - - |\n",
      "| X X O O X O - |\n",
      "# ------------- # \n",
      "\n",
      "-> MCTS\n",
      "# ------------- #\n",
      "| - - - - - - - |\n",
      "| - - - - - - - |\n",
      "| - - - O - - - |\n",
      "| O - X X - - - |\n",
      "| O X O X - - - |\n",
      "| X X O O X O - |\n",
      "# ------------- # \n",
      "\n"
     ]
    },
    {
     "name": "stderr",
     "output_type": "stream",
     "text": [
      "[autoreload of ConnectFour.Algorithms_Analysis failed: Traceback (most recent call last):\n",
      "  File \"C:\\Users\\Gongas\\anaconda3\\envs\\Connect_4\\lib\\site-packages\\IPython\\extensions\\autoreload.py\", line 276, in check\n",
      "    superreload(m, reload, self.old_objects)\n",
      "  File \"C:\\Users\\Gongas\\anaconda3\\envs\\Connect_4\\lib\\site-packages\\IPython\\extensions\\autoreload.py\", line 475, in superreload\n",
      "    module = reload(module)\n",
      "  File \"C:\\Users\\Gongas\\anaconda3\\envs\\Connect_4\\lib\\importlib\\__init__.py\", line 169, in reload\n",
      "    _bootstrap._exec(spec, module)\n",
      "  File \"<frozen importlib._bootstrap>\", line 619, in _exec\n",
      "  File \"<frozen importlib._bootstrap_external>\", line 883, in exec_module\n",
      "  File \"<frozen importlib._bootstrap>\", line 241, in _call_with_frames_removed\n",
      "  File \"C:\\Users\\Gongas\\Desktop\\Connect 4\\Connect-4\\Connect 4\\ConnectFour\\Algorithms_Analysis.py\", line 49, in <module>\n",
      "    def Display_Results(df:pd.DataFrame, X:np.nd, Y, HUE, Title:str) -> None:\n",
      "  File \"C:\\Users\\Gongas\\anaconda3\\envs\\Connect_4\\lib\\site-packages\\numpy\\__init__.py\", line 311, in __getattr__\n",
      "    raise AttributeError(\"module {!r} has no attribute \"\n",
      "AttributeError: module 'numpy' has no attribute 'nd'\n",
      "]\n"
     ]
    }
   ],
   "source": [
    "# Evaluating the Quality of the Solutions\n",
    "print(\"[INITIAL BOARD CONFIGURATION]\")\n",
    "print(new_node,\"\\n\")\n",
    "print(\"[OBTAINED RESULTS]\\n\")\n",
    "for i in range(len(nodes)):\n",
    "    print(\"->\", Algorithms[i].__name__)\n",
    "    print(nodes[i], \"\\n\")"
   ]
  },
  {
   "cell_type": "markdown",
   "id": "d4b7c062-9bb9-41f7-bc19-18b3d750d167",
   "metadata": {},
   "source": [
    "When **analysing the results** we can observe the previously discussed behaviours. While MiniMax and Monte Carlo Tree Search seek to **block the opponent** in order to stop him from winning and end the match, the A* Search only looks forward to **increase the value of his heuristic** which is why he chose to make a 3-piece sequence in the initial column instead of blocking the enemy like the other 2 algorithms."
   ]
  },
  {
   "cell_type": "markdown",
   "id": "cd0d40c5-178f-4bcd-8c57-8e93faccf19d",
   "metadata": {},
   "source": [
    "<div align=\"center\">\n",
    "\n",
    "---\n",
    "### Adversarial Analysis\n",
    "---\n",
    "</div>\n",
    "\n",
    "Since this Assignment also focuses on **adversarial strategy implementation**, we considered that conducting an **Adversarial Analysis** to evaluate how well the algorithms perform **against each other** or against known strategies would be quite insightful. This includes **analyzing situations** where one algorithm consistently outperforms the other."
   ]
  },
  {
   "cell_type": "code",
   "execution_count": 24,
   "id": "5885a21c-30f7-4313-9a37-2556dd2dd7c6",
   "metadata": {},
   "outputs": [],
   "source": [
    "# Initializing an instance of the class that allows us to Analyse the algorithms in action\n",
    "Analysis = Connect_Four_Terminal_APP()\n",
    "\n",
    "# Defining the amount of games to be considered in the Evaluation\n",
    "number_games = 10"
   ]
  },
  {
   "cell_type": "code",
   "execution_count": 25,
   "id": "062f9bc2-8bce-4492-aca8-451c412925d1",
   "metadata": {
    "scrolled": true
   },
   "outputs": [
    {
     "name": "stdout",
     "output_type": "stream",
     "text": [
      "#-------------------------#\n",
      "|   # Results Analysis    |\n",
      "#-------------------------#\n",
      "\n",
      "-> Random 1 \tWON 5 MATCHES\n",
      "-> Random 2 \tWON 5 MATCHES\n",
      "-> THERE WERE \t0 TIES\n",
      "\n",
      "#-------------------#\n",
      "| TOTAL MATCHES: 10 |\n",
      "#-------------------#\n"
     ]
    }
   ],
   "source": [
    "# Random Moves VS Random Moves\n",
    "results = Analysis.run_multiple_games(number_games, Analysis.random, Analysis.random, None, None, False)\n",
    "Analysis.show_multiple_games_results(\"Random 1\", \"Random 2\", results, number_games)"
   ]
  },
  {
   "cell_type": "markdown",
   "id": "1507e259-0ca7-4b28-b9a1-b9508c21a7f4",
   "metadata": {},
   "source": [
    "When both algorithms execute **random moves** against each other it is predictable that they might end up **losing as much as winning**. Moreover, since it' decision making relies only upon the **generation of pseudo-random numbers** we can only conclude that this kind of moves are **not very reliable** when playing against a person."
   ]
  },
  {
   "cell_type": "code",
   "execution_count": 26,
   "id": "0bd8c60b-8eb1-4873-9652-f19da271be5d",
   "metadata": {},
   "outputs": [
    {
     "name": "stdout",
     "output_type": "stream",
     "text": [
      "#-------------------------#\n",
      "|   # Results Analysis    |\n",
      "#-------------------------#\n",
      "\n",
      "-> Random \tWON 3 MATCHES\n",
      "-> A* Search \tWON 7 MATCHES\n",
      "-> THERE WERE \t0 TIES\n",
      "\n",
      "#-------------------#\n",
      "| TOTAL MATCHES: 10 |\n",
      "#-------------------#\n"
     ]
    }
   ],
   "source": [
    "# Random Moves VS A* Search\n",
    "results = Analysis.run_multiple_games(number_games, Analysis.random, Analysis.A_Star, None, heuristic_suggested, False)\n",
    "Analysis.show_multiple_games_results(\"Random\", \"A* Search\", results, number_games)"
   ]
  },
  {
   "cell_type": "markdown",
   "id": "2f390c82-183b-4881-ad7e-bb1d5ade0dd8",
   "metadata": {},
   "source": [
    "As expected the A* Search algorithm **outperforms** random moves approach despite not winning all the games. This Analysis helps conclude that **having information** regarding the actual state of the game and how far it is from a solution can **greatly impact the peformance** of a algorithm."
   ]
  },
  {
   "cell_type": "code",
   "execution_count": 27,
   "id": "ace02d8e-4fe1-4f88-9090-1c4342abed69",
   "metadata": {
    "scrolled": true
   },
   "outputs": [
    {
     "name": "stdout",
     "output_type": "stream",
     "text": [
      "#-------------------------#\n",
      "|   # Results Analysis    |\n",
      "#-------------------------#\n",
      "\n",
      "-> Random \tWON 0 MATCHES\n",
      "-> MiniMax \tWON 10 MATCHES\n",
      "-> THERE WERE \t0 TIES\n",
      "\n",
      "#-------------------#\n",
      "| TOTAL MATCHES: 10 |\n",
      "#-------------------#\n"
     ]
    }
   ],
   "source": [
    "# Random Moves VS MiniMax Algorithm\n",
    "results = Analysis.run_multiple_games(number_games, Analysis.random, Analysis.minimax, None, heuristic_suggested, False)\n",
    "Analysis.show_multiple_games_results(\"Random\", \"MiniMax\", results, number_games)"
   ]
  },
  {
   "cell_type": "markdown",
   "id": "40debc87-c23b-4155-91ba-09aaa5b24557",
   "metadata": {},
   "source": [
    "Similarly to the previous case, the **MiniMax algorithm** still outperforms random moves. This is expected due to the fact that MiniMax not only uses a **informed strategy** (based on a heuristic) but also an **adversarial** one, which makes it take into consideration the **next possible moves from the opponent** in order to optimize his own score along the playthrough of the match."
   ]
  },
  {
   "cell_type": "code",
   "execution_count": 28,
   "id": "d6eaadd0-d92d-46b0-ae10-682e023cca59",
   "metadata": {
    "scrolled": true
   },
   "outputs": [
    {
     "name": "stdout",
     "output_type": "stream",
     "text": [
      "#-------------------------#\n",
      "|   # Results Analysis    |\n",
      "#-------------------------#\n",
      "\n",
      "-> Random \tWON 0 MATCHES\n",
      "-> MCTS \tWON 3 MATCHES\n",
      "-> THERE WERE \t0 TIES\n",
      "\n",
      "#------------------#\n",
      "| TOTAL MATCHES: 3 |\n",
      "#------------------#\n"
     ]
    }
   ],
   "source": [
    "# Random Moves VS Monte Carlo Tree Search\n",
    "results = Analysis.run_multiple_games(3, Analysis.random, Analysis.mcts, None, heuristic_suggested, False)\n",
    "Analysis.show_multiple_games_results(\"Random\", \"MCTS\", results, 3)"
   ]
  },
  {
   "cell_type": "markdown",
   "id": "18a95297-1073-4b75-a4a8-884e9bd6d580",
   "metadata": {},
   "source": [
    "Monte Carlo Tree Search, as an **Adversarial Search Strategy** (like MiniMax), shows his evident superiority over the random moves approach by defeating it in every single match. Once again, it is shown how much an **informed and adversarial** approach can greatly influence this kind of algorithms."
   ]
  },
  {
   "cell_type": "code",
   "execution_count": 29,
   "id": "0ae56933-614d-4edd-ac84-bdc6f022d715",
   "metadata": {
    "scrolled": true
   },
   "outputs": [
    {
     "name": "stdout",
     "output_type": "stream",
     "text": [
      "#-------------------------#\n",
      "|   # Results Analysis    |\n",
      "#-------------------------#\n",
      "\n",
      "-> A* Search \tWON 0 MATCHES\n",
      "-> MiniMax \tWON 5 MATCHES\n",
      "-> THERE WERE \t0 TIES\n",
      "\n",
      "#------------------#\n",
      "| TOTAL MATCHES: 5 |\n",
      "#------------------#\n"
     ]
    }
   ],
   "source": [
    "# A* Search VS MiniMax\n",
    "results = Analysis.run_multiple_games(5, Analysis.A_Star, Analysis.minimax, heuristic_suggested, heuristic_suggested, False)\n",
    "Analysis.show_multiple_games_results(\"A* Search\", \"MiniMax\", results, 5)"
   ]
  },
  {
   "cell_type": "code",
   "execution_count": 30,
   "id": "4a901a31-2718-4918-90b2-7be1e15204b6",
   "metadata": {
    "scrolled": true
   },
   "outputs": [
    {
     "name": "stdout",
     "output_type": "stream",
     "text": [
      "#-------------------------#\n",
      "|   # Results Analysis    |\n",
      "#-------------------------#\n",
      "\n",
      "-> A* Search \tWON 0 MATCHES\n",
      "-> MCTS \tWON 5 MATCHES\n",
      "-> THERE WERE \t0 TIES\n",
      "\n",
      "#------------------#\n",
      "| TOTAL MATCHES: 5 |\n",
      "#------------------#\n"
     ]
    }
   ],
   "source": [
    "# A* Search VS Monte Carlo Tree Search\n",
    "results = Analysis.run_multiple_games(5, Analysis.A_Star, Analysis.mcts, heuristic_suggested, heuristic_suggested, False)\n",
    "Analysis.show_multiple_games_results(\"A* Search\", \"MCTS\", results, 5)"
   ]
  },
  {
   "cell_type": "markdown",
   "id": "2116a6b0-546e-40cb-a4c8-c5e013c66be2",
   "metadata": {},
   "source": [
    "Analysing both adversarial search strategies (like **MiniMax** and **Monte Carlo Tree Search**) play against a informed search startegy (**A\\* Search**) allowed us to easily identify **performance differences** between them.\n",
    "\n",
    "This clear **dominance** of the adversarial searches over the informed one comes up due to the **algorithms approach to the problem**. While an **Informed Strategy** only tends to consider the path that **increases** his **cost / heuristic functions** the most (may not be the optimal path), the **Adversarial ones** consider their **opponent's moves** inside an **in-depth search over multiple possible scenarios** looking forward to tilt the game in their favour with a **better understanding** of a nearby future."
   ]
  },
  {
   "cell_type": "code",
   "execution_count": 31,
   "id": "6962da72-b71f-4296-92c9-4268237422f9",
   "metadata": {},
   "outputs": [
    {
     "name": "stdout",
     "output_type": "stream",
     "text": [
      "#-------------------------#\n",
      "|   # Results Analysis    |\n",
      "#-------------------------#\n",
      "\n",
      "-> MiniMax \tWON 0 MATCHES\n",
      "-> MCTS \tWON 5 MATCHES\n",
      "-> THERE WERE \t0 TIES\n",
      "\n",
      "#------------------#\n",
      "| TOTAL MATCHES: 5 |\n",
      "#------------------#\n"
     ]
    }
   ],
   "source": [
    "# MiniMax VS Monte Carlo Tree Search\n",
    "results = Analysis.run_multiple_games(5, Analysis.minimax, Analysis.mcts, heuristic_suggested, heuristic_suggested, False)\n",
    "Analysis.show_multiple_games_results(\"MiniMax\", \"MCTS\", results, 5)"
   ]
  },
  {
   "cell_type": "markdown",
   "id": "b2a796ee-02ed-43dd-be0f-fb50761dd3b2",
   "metadata": {},
   "source": [
    "Finally, when **both adversarial algorithms play each other**, the Monte Carlo Tree Search seems to win most of the times. This phenomena might come from it's ability to perform deeper searches within the search tree (die to the **random moves**) while **MiniMax is bound by a maximum depth search**. Therefore, it's possible that MCTS managed to find better strategies through the playthrough of the match. \n",
    "\n",
    "However, **there is no Master Algorithm** (Algorithm capable of solving every existing problem). Since any algorithm has his **advantages and disadvantages**, it falls on us to decide which one to use in order to **better solve a given problem**."
   ]
  },
  {
   "cell_type": "markdown",
   "id": "ea2cd0e8-ce11-4947-bc6f-2c0de13bf2cb",
   "metadata": {},
   "source": [
    "<div align=\"center\">\n",
    "\n",
    "---\n",
    "## Conclusion\n",
    "---\n",
    "</div>\n",
    "\n",
    "In Suma, **Adversarial algorithms** account for the dynamism of **competitive scenarios** (envolves anticipating and countering an opponent's strategy), which is where the depth of **strategic planning** (including looking multiple moves ahead and evaluating many possible futures) excels and demonstrates **superior performance**.\n",
    "\n",
    "On the other hand, **Informed search algorithms** are mainly concerned with **cost functions and heuristics** that estimate the best path to follow. Threfore, they **do not take into consideration an opponent's moves or strategies**, which ends up limiting their applicability and performance inside a adversarial setting."
   ]
  },
  {
   "cell_type": "markdown",
   "id": "bc3e3d2a-2410-471d-9df5-05bc1109830e",
   "metadata": {},
   "source": [
    "___\n",
    "## Final Considerations\n",
    "\n",
    "If there is any difficulty on downloading or executing this project, please contact us via:\n",
    "\n",
    "- **Email**:\n",
    "    - [Gonçalo Esteves](https://github.com/EstevesX10) &#8594; `up202203947@up.pt`\n",
    "    - [Nuno Gomes](https://github.com/NightF0x26) &#8594; `up202206195@up.pt`"
   ]
  }
 ],
 "metadata": {
  "kernelspec": {
   "display_name": "Python 3 (ipykernel)",
   "language": "python",
   "name": "python3"
  },
  "language_info": {
   "codemirror_mode": {
    "name": "ipython",
    "version": 3
   },
   "file_extension": ".py",
   "mimetype": "text/x-python",
   "name": "python",
   "nbconvert_exporter": "python",
   "pygments_lexer": "ipython3",
   "version": "3.10.0"
  }
 },
 "nbformat": 4,
 "nbformat_minor": 5
}
