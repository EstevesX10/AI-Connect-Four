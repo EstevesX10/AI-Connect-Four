{
 "cells": [
  {
   "cell_type": "markdown",
   "id": "5fcc81ea-4674-4606-9030-143403aba5a3",
   "metadata": {},
   "source": [
    "---\n",
    "<br/>\n",
    "<div align=\"center\">\n",
    "\n",
    "# Connect-4 [Artificial Intelligence Project]\n",
    "</div>\n",
    "\n",
    "---"
   ]
  },
  {
   "cell_type": "markdown",
   "id": "8d1cfbe5-902e-4da4-824d-f1fd983f7256",
   "metadata": {},
   "source": [
    "<div align=\"center\">\n",
    "\n",
    "## Search Problem \n",
    "</div>\n",
    "\n",
    "A Search Problem is composed by multiple factors:\n",
    "- States (Any possible configuration of the Board)\n",
    "- Initial and Goal States\n",
    "- Action Space (actions and their effects on the environment)\n",
    "- Action Cost"
   ]
  },
  {
   "cell_type": "markdown",
   "id": "d2843a54-75ca-48ad-aa00-631411d91e8f",
   "metadata": {},
   "source": [
    "---"
   ]
  },
  {
   "cell_type": "code",
   "execution_count": 1,
   "id": "68ce779e-e9cf-43b3-a11c-9de64c5f0a58",
   "metadata": {},
   "outputs": [
    {
     "name": "stdout",
     "output_type": "stream",
     "text": [
      "pygame 2.5.2 (SDL 2.28.2, Python 3.10.13)\n",
      "Hello from the pygame community. https://www.pygame.org/contribute.html\n"
     ]
    }
   ],
   "source": [
    "import numpy as np\n",
    "import pygame\n"
   ]
  },
  {
   "cell_type": "code",
   "execution_count": 2,
   "id": "2fd29599-706b-4855-8e92-e755e2af555b",
   "metadata": {},
   "outputs": [],
   "source": [
    "class Connect4:\n",
    "\n",
    "    # Defining Board's Size\n",
    "    NROWS = 6\n",
    "    NCOLS = 7\n",
    "    \n",
    "    def __init__(self, Board_Configuration=None):\n",
    "        # Matrix to Store the Board's Values\n",
    "        self.board = np.zeros(shape=(self.NROWS, self.NCOLS), dtype=np.int8) if Board_Configuration is None else Board_Configuration\n",
    "\n",
    "        # Variable to store the Winner (0 - Tie || 1 - PLayer 1 || 2 - Player 2 / AI)\n",
    "        self.winner = 0\n",
    "\n",
    "    def valid_move(self, ncol):\n",
    "        # Checking if a move can be made (which is basically checking if the collumn is already full)\n",
    "        return (ncol >= 0 and ncol < self.NCOLS) and (self.board[0][ncol] == 0)\n",
    "\n",
    "    def move(self, ncol, player):\n",
    "        if (self.valid_move(ncol)):\n",
    "            # Looping through the column (Bottom -> Up) where we want to insert a piece\n",
    "            for (nrow, item) in enumerate(self.board[:, ncol][::-1]):\n",
    "                if (item == 0):\n",
    "                    self.board[self.NROWS - nrow - 1][ncol] = player\n",
    "                    return True\n",
    "        return False\n",
    "\n",
    "    def is_full(self):\n",
    "        # Checks the top Column in order to see if it's Full\n",
    "        for top_item in self.board[0]:\n",
    "            if top_item == 0:\n",
    "                return False\n",
    "        return True\n",
    "\n",
    "\n",
    "    def is_over(self):\n",
    "        # To Implement (Check for any 4 piece combination)\n",
    "        pass\n",
    "\n",
    "    def run(self):\n",
    "        # To Implement (Create Main Loop)\n",
    "        pass\n",
    "    \n",
    "    def __str__(self):\n",
    "        CODE = {0:'-', 1:'X', 2:'O'} # Maybe helpfull to convert the board into the same style as in the Assignment 1 Paper\n",
    "        return str(self.board)\n",
    "\n",
    "    def __hash__(self):\n",
    "        return hash(str(self.board))\n",
    "\n",
    "    def __eq__(self, other:object):\n",
    "        if (not isinstance(other, Connect4)):\n",
    "            return False\n",
    "        return hash(self) == hash(other)"
   ]
  },
  {
   "cell_type": "code",
   "execution_count": 3,
   "id": "aaa59ebd-b40d-432f-a805-3f7d48e090ef",
   "metadata": {},
   "outputs": [
    {
     "name": "stdout",
     "output_type": "stream",
     "text": [
      "[[0 0 0 0 0 0 0]\n",
      " [0 0 0 0 0 0 0]\n",
      " [0 0 0 0 0 0 0]\n",
      " [0 0 0 0 0 0 0]\n",
      " [0 0 0 0 0 0 0]\n",
      " [0 0 0 0 0 0 0]]\n"
     ]
    }
   ],
   "source": [
    "game = Connect4()\n",
    "print(game)"
   ]
  },
  {
   "cell_type": "code",
   "execution_count": 4,
   "id": "6b5c2f6a-21f8-40da-b8f2-126e6ec53f71",
   "metadata": {},
   "outputs": [
    {
     "name": "stdout",
     "output_type": "stream",
     "text": [
      "[[0 0 0 0 0 0 0]\n",
      " [0 0 0 0 0 0 0]\n",
      " [0 0 0 0 0 0 0]\n",
      " [0 0 0 0 0 0 0]\n",
      " [1 0 0 0 0 0 0]\n",
      " [1 0 1 0 0 0 0]]\n"
     ]
    }
   ],
   "source": [
    "game.move(0, 1)\n",
    "game.move(2, 1)\n",
    "game.move(0, 1)\n",
    "print(game.board)"
   ]
  },
  {
   "cell_type": "code",
   "execution_count": 6,
   "id": "e97335d5-8fdd-4d4d-b34a-a7139d2a85d7",
   "metadata": {},
   "outputs": [
    {
     "data": {
      "text/plain": [
       "False"
      ]
     },
     "execution_count": 6,
     "metadata": {},
     "output_type": "execute_result"
    }
   ],
   "source": [
    "game.is_full()"
   ]
  },
  {
   "cell_type": "markdown",
   "id": "ef94b95b",
   "metadata": {},
   "source": [
    "---\n",
    "Graphical User Interface\n",
    "\n",
    "---"
   ]
  },
  {
   "cell_type": "code",
   "execution_count": null,
   "id": "e97f75a2",
   "metadata": {},
   "outputs": [],
   "source": []
  }
 ],
 "metadata": {
  "kernelspec": {
   "display_name": "Python 3 (ipykernel)",
   "language": "python",
   "name": "python3"
  },
  "language_info": {
   "codemirror_mode": {
    "name": "ipython",
    "version": 3
   },
   "file_extension": ".py",
   "mimetype": "text/x-python",
   "name": "python",
   "nbconvert_exporter": "python",
   "pygments_lexer": "ipython3",
   "version": "3.10.13"
  }
 },
 "nbformat": 4,
 "nbformat_minor": 5
}
