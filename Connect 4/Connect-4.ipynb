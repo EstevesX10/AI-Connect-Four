{
 "cells": [
  {
   "cell_type": "markdown",
   "id": "5fcc81ea-4674-4606-9030-143403aba5a3",
   "metadata": {},
   "source": [
    "---\n",
    "<div align=\"center\">\n",
    "\n",
    "# Connect-4 [Artificial Intelligence Project]\n",
    "</div>\n",
    "\n",
    "---"
   ]
  },
  {
   "cell_type": "markdown",
   "id": "8d1cfbe5-902e-4da4-824d-f1fd983f7256",
   "metadata": {},
   "source": [
    "<div align=\"center\">\n",
    "\n",
    "## Search Problem \n",
    "</div>\n",
    "\n",
    "A Search Problem is composed by multiple factors:\n",
    "- States (Any possible configuration of the Board)\n",
    "- Initial and Goal States\n",
    "- Action Space (actions and their effects on the environment)\n",
    "- Action Cost"
   ]
  },
  {
   "cell_type": "markdown",
   "id": "d2843a54-75ca-48ad-aa00-631411d91e8f",
   "metadata": {},
   "source": [
    "---"
   ]
  },
  {
   "cell_type": "code",
   "execution_count": 1,
   "id": "68ce779e-e9cf-43b3-a11c-9de64c5f0a58",
   "metadata": {},
   "outputs": [
    {
     "name": "stdout",
     "output_type": "stream",
     "text": [
      "pygame 2.5.2 (SDL 2.28.3, Python 3.10.0)\n",
      "Hello from the pygame community. https://www.pygame.org/contribute.html\n"
     ]
    }
   ],
   "source": [
    "import numpy as np\n",
    "from copy import (deepcopy)\n",
    "from os import (system)\n",
    "import pygame"
   ]
  },
  {
   "cell_type": "code",
   "execution_count": 2,
   "id": "2fd29599-706b-4855-8e92-e755e2af555b",
   "metadata": {},
   "outputs": [],
   "source": [
    "class Connect4:\n",
    "    # Defining Board's Size\n",
    "    NROWS = 6\n",
    "    NCOLS = 7\n",
    "    \n",
    "    def __init__(self):\n",
    "        # Matrix to Store the Board's Values\n",
    "        self.board = np.zeros(shape=(self.NROWS, self.NCOLS), dtype=np.int8)\n",
    "\n",
    "        # Array to keep track of the row's index for every column where a piece can be placed\n",
    "        # Basically it's the Row idx for every column's height\n",
    "        self.columns_height = np.full(shape=self.NCOLS, fill_value=(self.NROWS - 1), dtype=np.int8)\n",
    "\n",
    "        # Defining the Possible Actions (Initially a piece can be placed in any column)\n",
    "        self.actions = set()\n",
    "        [self.actions.add(col) for col in range(self.NCOLS)]\n",
    "        \n",
    "        # Initializing a variable to track the current player\n",
    "        self.player = 1\n",
    "        \n",
    "        # Variable to store the Winner (2 - Game still running || 0 - Tie || 1 - PLayer 1 || -1 - Player 2 / AI)\n",
    "        self.winner = 2\n",
    "    \n",
    "    def move(self, ncol):\n",
    "        # Creating a new state\n",
    "        new_state = deepcopy(self)\n",
    "\n",
    "        # Checks of the given column can be played on\n",
    "        if(ncol in self.actions):\n",
    "            # Inserting the move into the board\n",
    "            new_state.board[new_state.columns_height[ncol]][ncol] = new_state.player\n",
    "            \n",
    "            # Updating the \"ncol\"'s height\n",
    "            new_state.columns_height[ncol] -= 1\n",
    "            \n",
    "            # Checking if the column is full and therefore uncapable of receiving more pieces -> Changes the action space\n",
    "            if (new_state.columns_height[ncol] < 0):\n",
    "                new_state.actions.remove(ncol)\n",
    "\n",
    "            # Updates the current Winner\n",
    "            new_state.update_winner()\n",
    "                \n",
    "            # Updating current player for the next state\n",
    "            new_state.player *= -1\n",
    "\n",
    "        # Returns the New State (Could be the same as the previous if the action could not be performed)\n",
    "        return new_state\n",
    "\n",
    "    \"\"\" MIGHT NEED TO BE OPTIMIZED \"\"\"\n",
    "    def get_winner(self, currPiece, Directions:list[tuple]):\n",
    "        for i in range(0, 6):\n",
    "            for j in range(0, 7):\n",
    "                if (self.board[i][j] == currPiece):\n",
    "                    for (x, y) in Directions:\n",
    "                        row, col = (i, j)\n",
    "                        winCondition = 1\n",
    "                        while(winCondition < 4):\n",
    "                            row += x\n",
    "                            col += y\n",
    "                            if (row in range(0, 6) and col in range(0, 7) and self.board[row][col] == currPiece):\n",
    "                                winCondition += 1\n",
    "                            else:\n",
    "                                break\n",
    "                        if (winCondition == 4):\n",
    "                            self.winner = currPiece\n",
    "                            return\n",
    "\n",
    "    \"\"\" MIGHT NEED TO BE OPTIMIZED \"\"\"\n",
    "    def update_winner(self):\n",
    "        Directions = [(0, -1), (0, 1), (-1, 0), (1, 0), (-1, -1), (-1, 1), (1, -1), (1, 1)]\n",
    "\n",
    "        self.get_winner(1, Directions)\n",
    "        if (self.winner == currPiece):\n",
    "            return\n",
    "            \n",
    "        self.get_winner(-1, Directions)\n",
    "        if (self.winner == currPiece):\n",
    "            return\n",
    "        \n",
    "        self.winner = 0\n",
    "    \n",
    "    def is_over(self):\n",
    "        # If the Winner corresponds to 2 then the game is not finished otherwise it is\n",
    "        return self.winner != 2\n",
    "\n",
    "    # IT ONLY WORKS WITHIN A SINGLE INSTANCE OF THE GAME - WE WANT IT TO BE ABLE TO PLAY WITHIN MULTIPLE INSTANCES / STATES OF IT\n",
    "    def run(self): # CAN ONLY BE USED IN PVP\n",
    "        # Creating the Game Loop inside the Terminal\n",
    "        while not self.is_over():\n",
    "            system('cls')\n",
    "            print(\"\\nCURRENT BOARD: \\n\")\n",
    "            print(self.board)\n",
    "            ncol = int(input(f\"\\n| Player {self.player} | Choose a Column to Play: \"))\n",
    "            self = self.move(ncol)\n",
    "        \n",
    "        if self.winner == 0:\n",
    "            print(\"Tie\")\n",
    "        else:\n",
    "            print(f\"Player {self.player} Wins!\")\n",
    "    \n",
    "    def __str__(self):\n",
    "        CODE = {0:'-', 1:'X', 2:'O'} # Maybe helpfull to convert the board into the same style used in the Assignment 1 Paper\n",
    "        # new_board = [[[CODE[self.board[row][col]] for row in range(self.NROWS)]] for col in range(self.NCOLS)]\n",
    "        # return str(new_board)\n",
    "        return str(self.board)\n",
    "\n",
    "    def __hash__(self):\n",
    "        return hash(str(self.board))\n",
    "\n",
    "    def __eq__(self, other:object):\n",
    "        if (not isinstance(other, Connect4)):\n",
    "            return False\n",
    "        return hash(self) == hash(other)\n",
    "        "
   ]
  },
  {
   "cell_type": "code",
   "execution_count": 3,
   "id": "aaa59ebd-b40d-432f-a805-3f7d48e090ef",
   "metadata": {},
   "outputs": [
    {
     "name": "stdout",
     "output_type": "stream",
     "text": [
      "[[0 0 0 0 0 0 0]\n",
      " [0 0 0 0 0 0 0]\n",
      " [0 0 0 0 0 0 0]\n",
      " [0 0 0 0 0 0 0]\n",
      " [0 0 0 0 0 0 0]\n",
      " [0 0 0 0 0 0 0]]\n"
     ]
    }
   ],
   "source": [
    "game = Connect4()\n",
    "print(game)"
   ]
  },
  {
   "cell_type": "code",
   "execution_count": 4,
   "id": "6b5c2f6a-21f8-40da-b8f2-126e6ec53f71",
   "metadata": {},
   "outputs": [
    {
     "name": "stdout",
     "output_type": "stream",
     "text": [
      "[[ 0 -1  0  0  0  0  0]\n",
      " [ 0  1  0  0  0  0  0]\n",
      " [ 0 -1  0  0  0  0  0]\n",
      " [ 0  1  0  0  0  0  0]\n",
      " [ 0 -1  0  0  0  0  0]\n",
      " [ 0  1  0  0  0  0  0]]\n"
     ]
    }
   ],
   "source": [
    "game = game.move(1)\n",
    "game = game.move(1)\n",
    "game = game.move(1)\n",
    "game = game.move(1)\n",
    "game = game.move(1)\n",
    "game = game.move(1)\n",
    "game = game.move(1)\n",
    "print(game)"
   ]
  },
  {
   "cell_type": "code",
   "execution_count": 5,
   "id": "103394f2-0ea8-48ef-9942-d6222e773acd",
   "metadata": {},
   "outputs": [],
   "source": [
    "new_game = Connect4()\n",
    "# new_game.run()"
   ]
  },
  {
   "cell_type": "markdown",
   "id": "c7eb4734-a3d4-4ae4-88cd-02dee0553fd7",
   "metadata": {},
   "source": [
    "---\n",
    "<div align=\"center\">\n",
    "\n",
    "## TreeNode Class\n",
    "</div>\n",
    "\n",
    "---"
   ]
  },
  {
   "cell_type": "code",
   "execution_count": 6,
   "id": "d7a7b8df-7f57-4bd2-bbd7-b614fb46d544",
   "metadata": {},
   "outputs": [],
   "source": [
    "class TreeNode:\n",
    "    # Screen Parameters\n",
    "    SQSIZE = 80\n",
    "    X_OFFSET = 60\n",
    "    Y_OFFSET = 60\n",
    "    \n",
    "    # Circle - Screen Parameters\n",
    "    CIRCLE_OFFSET = 10\n",
    "    CIRCLE_POS = (X_OFFSET + SQSIZE//2, Y_OFFSET + SQSIZE//2)\n",
    "    CIRCLE_RADIUS = (SQSIZE//2) - CIRCLE_OFFSET\n",
    "\n",
    "    # RGB Colors\n",
    "    BLACK = (0, 0, 0)\n",
    "    WHITE = (255, 255, 255)\n",
    "    BLUE = (135, 206, 250)\n",
    "    DARK_BLUE = (0, 0, 255)\n",
    "    RED = (255, 0, 0)\n",
    "\n",
    "    # Defining a Array with the Piece's Colors [Tuple: (BORDER, INNER CIRCLE)]\n",
    "    PIECES_COLORS = [(BLACK, WHITE), # Empty Pieces\n",
    "                     (BLACK, RED), # Player 1\n",
    "                     (BLACK, BLACK)] # Player 2 / AI\n",
    "        \n",
    "    def __init__(self, state, parent=None):\n",
    "        # Stores a State of the Game\n",
    "        self.state = state\n",
    "\n",
    "        # Keeps a reference to his Parent Node\n",
    "        self.parent = parent\n",
    "\n",
    "        # Stores all the generated nodes\n",
    "        self.children = []\n",
    "\n",
    "    def draw_board(self, screen):\n",
    "        # Draws Board's Shadow\n",
    "        board_rect_shadow = pygame.Rect((self.X_OFFSET - 5, self.Y_OFFSET - 5), (self.SQSIZE*game.NCOLS + 2*5, self.SQSIZE*game.NROWS + 2*5))\n",
    "        pygame.draw.rect(screen, self.BLACK, board_rect_shadow)\n",
    "\n",
    "        # Draws Main Board\n",
    "        board_rect = pygame.Rect((self.X_OFFSET, self.Y_OFFSET), (self.SQSIZE*game.NCOLS, self.SQSIZE*game.NROWS))\n",
    "        pygame.draw.rect(screen, self.DARK_BLUE, board_rect)\n",
    "\n",
    "        # Drawing Circles in the Board\n",
    "        for row in range(self.state.NROWS):\n",
    "            for col in range(self.state.NCOLS):\n",
    "                # Getting the Colors from the Auxiliar List\n",
    "                (Border_Color, Circle_Color) = self.PIECES_COLORS[self.state.board[row][col]]\n",
    "\n",
    "                # Drawing the Circle's Border\n",
    "                pygame.draw.circle(screen, Border_Color, (self.X_OFFSET + self.SQSIZE//2 + col*(self.SQSIZE),\n",
    "                                                          self.Y_OFFSET + self.SQSIZE//2 + row*(self.SQSIZE)), self.CIRCLE_RADIUS)\n",
    "\n",
    "                # Drawing the Main Circle\n",
    "                pygame.draw.circle(screen, Circle_Color, (self.X_OFFSET + self.SQSIZE//2 + col*(self.SQSIZE),\n",
    "                                                          self.Y_OFFSET + self.SQSIZE//2 + row*(self.SQSIZE)), int(0.9*self.CIRCLE_RADIUS))\n",
    "    \n",
    "    def __hash__(self):\n",
    "        return hash((self.state, self.parent, [child for child in self.children]))\n",
    "    \n",
    "    def __eq__(self, other:object):\n",
    "        if (not isinstance(other, TreeNode)):\n",
    "            return False\n",
    "        return self.__hash__() == other.__hash__()\n",
    "\n",
    "    def __str__(self):\n",
    "        return str(self.state)"
   ]
  },
  {
   "cell_type": "code",
   "execution_count": 7,
   "id": "80e5986a-6bb4-4000-bad9-893eb7928935",
   "metadata": {},
   "outputs": [],
   "source": [
    "initial_state = Connect4()\n",
    "root = TreeNode(initial_state)"
   ]
  },
  {
   "cell_type": "markdown",
   "id": "dbd0cee9-a0a4-4d2d-8084-6bea23265c9f",
   "metadata": {},
   "source": [
    "---\n",
    "<div align=\"center\">\n",
    "\n",
    "## Algorithms\n",
    "</div>\n",
    "\n",
    "---"
   ]
  },
  {
   "cell_type": "code",
   "execution_count": 8,
   "id": "f4316a2b-6e03-4331-8a8d-f7cde1a25618",
   "metadata": {},
   "outputs": [],
   "source": [
    "# IMPLEMENT SEARCH ALGORITHMS\n",
    "\n",
    "def A_Star_Search():\n",
    "    \"\"\" A* Search \"\"\"\n",
    "    pass\n",
    "\n",
    "def MCTS():\n",
    "    \"\"\" Monte Carlo Tree Search \"\"\"\n",
    "    pass"
   ]
  },
  {
   "cell_type": "markdown",
   "id": "ef94b95b",
   "metadata": {},
   "source": [
    "---\n",
    "<div align=\"center\">\n",
    "\n",
    "## Graphical User Interface\n",
    "</div>\n",
    "\n",
    "---"
   ]
  },
  {
   "cell_type": "code",
   "execution_count": 18,
   "id": "e97f75a2",
   "metadata": {},
   "outputs": [],
   "source": [
    "class GUI:\n",
    "    def __init__(self):\n",
    "        self.root = TreeNode(state=Connect4())\n",
    "        self.current_node = deepcopy(self.root)\n",
    "        self.WIDTH = self.root.state.NCOLS*self.root.SQSIZE + 2*self.root.X_OFFSET\n",
    "        self.HEIGHT = self.root.state.NROWS*self.root.SQSIZE + 2*self.root.Y_OFFSET\n",
    "\n",
    "    def draw(self, screen):\n",
    "        # Filling the Background with Blue\n",
    "        screen.fill(self.root.BLUE)\n",
    "\n",
    "        # Drawing the Board Elements\n",
    "        self.root.draw_board(screen)\n",
    "    \n",
    "    def run(self):\n",
    "        # Initializing Window / Screen\n",
    "        screen = pygame.display.set_mode((self.WIDTH, self.HEIGHT))\n",
    "        pygame.display.set_caption(\"Connect-4\")\n",
    "        ICON_IMG = pygame.image.load('Assets/Connect-Four.png').convert_alpha()\n",
    "        pygame.display.set_icon(ICON_IMG)\n",
    "\n",
    "        # Create a Flag to keep track of current state of the Application / GUI\n",
    "        run = True\n",
    "\n",
    "        # Main Loop\n",
    "        while run:\n",
    "\n",
    "            # Draws the Game Elements into the Screen\n",
    "            self.draw(screen)\n",
    "            \n",
    "            # Event Loop\n",
    "            for event in pygame.event.get():\n",
    "                if (event.type == pygame.QUIT):\n",
    "                    run = False\n",
    "\n",
    "            # Updates the Window\n",
    "            pygame.display.update()\n",
    "        pygame.quit()"
   ]
  },
  {
   "cell_type": "code",
   "execution_count": 19,
   "id": "3cca2c80-19c9-499e-b9a0-bd289e41891f",
   "metadata": {},
   "outputs": [],
   "source": [
    "App = GUI()"
   ]
  },
  {
   "cell_type": "code",
   "execution_count": 20,
   "id": "47d9d844-a2b0-43a5-b286-9da28c462356",
   "metadata": {},
   "outputs": [],
   "source": [
    "App.run()"
   ]
  },
  {
   "cell_type": "code",
   "execution_count": null,
   "id": "f6e03295-4a8c-4fb6-a1f4-b9a2e64ae8c0",
   "metadata": {},
   "outputs": [],
   "source": []
  }
 ],
 "metadata": {
  "kernelspec": {
   "display_name": "Python 3 (ipykernel)",
   "language": "python",
   "name": "python3"
  },
  "language_info": {
   "codemirror_mode": {
    "name": "ipython",
    "version": 3
   },
   "file_extension": ".py",
   "mimetype": "text/x-python",
   "name": "python",
   "nbconvert_exporter": "python",
   "pygments_lexer": "ipython3",
   "version": "3.10.0"
  }
 },
 "nbformat": 4,
 "nbformat_minor": 5
}
