{
 "cells": [
  {
   "cell_type": "markdown",
   "id": "5fcc81ea-4674-4606-9030-143403aba5a3",
   "metadata": {},
   "source": [
    "---\n",
    "<div align=\"center\">\n",
    "\n",
    "# Connect-4 [Artificial Intelligence Project]\n",
    "</div>\n",
    "\n",
    "---"
   ]
  },
  {
   "cell_type": "markdown",
   "id": "8d1cfbe5-902e-4da4-824d-f1fd983f7256",
   "metadata": {},
   "source": [
    "<div align=\"center\">\n",
    "\n",
    "## Search Problem \n",
    "</div>\n",
    "\n",
    "A Search Problem is composed by multiple factors:\n",
    "- States (Any possible configuration of the Board)\n",
    "- Initial and Goal States\n",
    "- Action Space (actions and their effects on the environment)\n",
    "- Action Cost"
   ]
  },
  {
   "cell_type": "markdown",
   "id": "d2843a54-75ca-48ad-aa00-631411d91e8f",
   "metadata": {},
   "source": [
    "---"
   ]
  },
  {
   "cell_type": "code",
   "execution_count": 1,
   "id": "68ce779e-e9cf-43b3-a11c-9de64c5f0a58",
   "metadata": {},
   "outputs": [
    {
     "name": "stdout",
     "output_type": "stream",
     "text": [
      "pygame 2.5.2 (SDL 2.28.3, Python 3.10.0)\n",
      "Hello from the pygame community. https://www.pygame.org/contribute.html\n"
     ]
    }
   ],
   "source": [
    "import numpy as np\n",
    "from copy import (deepcopy)\n",
    "from os import (system)\n",
    "import pygame"
   ]
  },
  {
   "cell_type": "code",
   "execution_count": 2,
   "id": "2fd29599-706b-4855-8e92-e755e2af555b",
   "metadata": {},
   "outputs": [],
   "source": [
    "class Connect4:\n",
    "    # Defining Board's Size\n",
    "    NROWS = 6\n",
    "    NCOLS = 7\n",
    "    \n",
    "    def __init__(self):\n",
    "        # Matrix to Store the Board's Values\n",
    "        self.board = np.zeros(shape=(self.NROWS, self.NCOLS), dtype=np.int8)\n",
    "\n",
    "        # Array to keep track of the row's index for every column where a piece can be placed\n",
    "        # Basically it's the Row idx for every column's height\n",
    "        self.columns_height = np.full(shape=self.NCOLS, fill_value=(self.NROWS - 1), dtype=np.int8)\n",
    "\n",
    "        # Defining the Possible Actions (Initially a piece can be placed in any column)\n",
    "        self.actions = set()\n",
    "        [self.actions.add(col) for col in range(self.NCOLS)]\n",
    "        \n",
    "        # Initializing a variable to track the current player\n",
    "        self.player = 1\n",
    "        \n",
    "        # Variable to store the Winner (-1 - Game still running || 0 - Tie || 1 - PLayer 1 || 2 - Player 2 / AI)\n",
    "        self.winner = - 1\n",
    "\n",
    "    def move(self, ncol):\n",
    "        # Creating a new state\n",
    "        new_state = deepcopy(self)\n",
    "\n",
    "        # Checks of the given column can be played on\n",
    "        if(ncol in self.actions):\n",
    "            # Inserting the move into the board\n",
    "            new_state.board[new_state.columns_height[ncol]][ncol] = new_state.player\n",
    "            \n",
    "            # Updating the \"ncol\"'s height\n",
    "            new_state.columns_height[ncol] -= 1\n",
    "            \n",
    "            # Checking if the column is full and therefore uncapable of receiving more pieces -> Changes the action space\n",
    "            if (new_state.columns_height[ncol] < 0):\n",
    "                new_state.actions.remove(ncol)\n",
    "\n",
    "            # Updates the current Winner\n",
    "            new_state.update_winner()\n",
    "                \n",
    "            # Updating current player for the next state\n",
    "            new_state.player = 2 if new_state.player == 1 else 1\n",
    "\n",
    "        # Returns the New State (Could be the same as the previous if the action could not be performed)\n",
    "        return new_state\n",
    "\n",
    "    def update_winner(self):\n",
    "        # To Implement\n",
    "        pass\n",
    "    \n",
    "    def is_over(self):\n",
    "        # If the Winner corresponds to -1 then the game is not finished otherwise it is\n",
    "        return self.winner != -1\n",
    "\n",
    "    # NEEDS TO BE MODIFIED - WE COULD WRAP THE NEW STATES WITH A TREENODE CLASS - WOULD HELP FOR THE A* AND FOR THE MCTS [ALSO WE COULD USE IT TO SIMPLIFY THE FLOW OF THE GAME - DEPENDING ON THE OPPONENTS]\n",
    "    def run(self):\n",
    "        # Creating the Game Loop inside the Terminal\n",
    "        while not self.is_over():\n",
    "            system('cls')\n",
    "            print(\"\\nCURRENT BOARD: \\n\")\n",
    "            print(self.board)\n",
    "            ncol = input(f\"\\n| Player {self.player} | Choose a Column to Play: \")\n",
    "            self = self.move(ncol) # Problem Here\n",
    "            print(self.board)\n",
    "            break\n",
    "        \n",
    "        if self.winner == 0:\n",
    "            print(\"Tie\")\n",
    "        else:\n",
    "            print(f\"Player {self.player} Wins!\")\n",
    "    \n",
    "    def __str__(self):\n",
    "        CODE = {0:'-', 1:'X', 2:'O'} # Maybe helpfull to convert the board into the same style used in the Assignment 1 Paper\n",
    "        return str(self.board)\n",
    "\n",
    "    def __hash__(self):\n",
    "        return hash(str(self.board))\n",
    "\n",
    "    def __eq__(self, other:object):\n",
    "        if (not isinstance(other, Connect4)):\n",
    "            return False\n",
    "        return hash(self) == hash(other)\n",
    "        "
   ]
  },
  {
   "cell_type": "code",
   "execution_count": 3,
   "id": "aaa59ebd-b40d-432f-a805-3f7d48e090ef",
   "metadata": {},
   "outputs": [
    {
     "name": "stdout",
     "output_type": "stream",
     "text": [
      "[[0 0 0 0 0 0 0]\n",
      " [0 0 0 0 0 0 0]\n",
      " [0 0 0 0 0 0 0]\n",
      " [0 0 0 0 0 0 0]\n",
      " [0 0 0 0 0 0 0]\n",
      " [0 0 0 0 0 0 0]]\n"
     ]
    }
   ],
   "source": [
    "game = Connect4()\n",
    "print(game)"
   ]
  },
  {
   "cell_type": "code",
   "execution_count": 4,
   "id": "6b5c2f6a-21f8-40da-b8f2-126e6ec53f71",
   "metadata": {},
   "outputs": [
    {
     "name": "stdout",
     "output_type": "stream",
     "text": [
      "[[0 2 0 0 0 0 0]\n",
      " [0 1 0 0 0 0 0]\n",
      " [0 2 0 0 0 0 0]\n",
      " [0 1 0 0 0 0 0]\n",
      " [0 2 0 0 0 0 0]\n",
      " [0 1 0 0 0 0 0]]\n"
     ]
    }
   ],
   "source": [
    "game = game.move(1)\n",
    "game = game.move(1)\n",
    "game = game.move(1)\n",
    "game = game.move(1)\n",
    "game = game.move(1)\n",
    "game = game.move(1)\n",
    "game = game.move(1)\n",
    "print(game.board)"
   ]
  },
  {
   "cell_type": "code",
   "execution_count": 5,
   "id": "103394f2-0ea8-48ef-9942-d6222e773acd",
   "metadata": {},
   "outputs": [
    {
     "name": "stdout",
     "output_type": "stream",
     "text": [
      "\n",
      "CURRENT BOARD: \n",
      "\n",
      "[[0 0 0 0 0 0 0]\n",
      " [0 0 0 0 0 0 0]\n",
      " [0 0 0 0 0 0 0]\n",
      " [0 0 0 0 0 0 0]\n",
      " [0 0 0 0 0 0 0]\n",
      " [0 0 0 0 0 0 0]]\n"
     ]
    },
    {
     "name": "stdin",
     "output_type": "stream",
     "text": [
      "\n",
      "| Player 1 | Choose a Column to Play:  1\n"
     ]
    },
    {
     "name": "stdout",
     "output_type": "stream",
     "text": [
      "[[0 0 0 0 0 0 0]\n",
      " [0 0 0 0 0 0 0]\n",
      " [0 0 0 0 0 0 0]\n",
      " [0 0 0 0 0 0 0]\n",
      " [0 0 0 0 0 0 0]\n",
      " [0 0 0 0 0 0 0]]\n",
      "Player 1 Wins!\n"
     ]
    }
   ],
   "source": [
    "new_game = Connect4()\n",
    "new_game.run()"
   ]
  },
  {
   "cell_type": "markdown",
   "id": "ef94b95b",
   "metadata": {},
   "source": [
    "---\n",
    "<div align=\"center\">\n",
    "\n",
    "## Graphical User Interface\n",
    "</div>\n",
    "\n",
    "---"
   ]
  },
  {
   "cell_type": "code",
   "execution_count": 6,
   "id": "e97f75a2",
   "metadata": {},
   "outputs": [],
   "source": [
    "class GUI:\n",
    "    # Screen Parameters\n",
    "    SQSIZE = 80\n",
    "    X_OFFSET = 60\n",
    "    Y_OFFSET = 60\n",
    "\n",
    "    # RGB Colors\n",
    "    BLACK = (0,0,0)\n",
    "    WHITE = (255,255,255)\n",
    "    BLUE = (135,206,250)\n",
    "    \n",
    "    def __init__(self):\n",
    "        self.game = Connect4()\n",
    "        self.WIDTH = self.game.NCOLS*self.SQSIZE + 2*self.X_OFFSET\n",
    "        self.HEIGHT = self.game.NROWS*self.SQSIZE + 2*self.Y_OFFSET\n",
    "\n",
    "    def draw_board(self):\n",
    "        # To Implement\n",
    "        pass\n",
    "    \n",
    "    def draw(self, screen):\n",
    "        # Filling the Background with Blue\n",
    "        screen.fill(self.BLUE)\n",
    "    \n",
    "    def run(self):\n",
    "\n",
    "        # Initializing Window / Screen\n",
    "        screen = pygame.display.set_mode((self.WIDTH, self.HEIGHT))\n",
    "        pygame.display.set_caption(\"Connect-4\")\n",
    "\n",
    "        # Create a Flag to keep track of current state of the Application / GUI\n",
    "        run = True\n",
    "\n",
    "        # Main Loop\n",
    "        while run:\n",
    "\n",
    "            # Draws the Game Elements into the Screen\n",
    "            self.draw(screen)\n",
    "            \n",
    "            # Event Loop\n",
    "            for event in pygame.event.get():\n",
    "                if (event.type == pygame.QUIT):\n",
    "                    run = False\n",
    "\n",
    "            # Updates the Window\n",
    "            pygame.display.update()\n",
    "        pygame.quit()"
   ]
  },
  {
   "cell_type": "code",
   "execution_count": 7,
   "id": "3cca2c80-19c9-499e-b9a0-bd289e41891f",
   "metadata": {},
   "outputs": [],
   "source": [
    "App = GUI()"
   ]
  },
  {
   "cell_type": "code",
   "execution_count": 8,
   "id": "47d9d844-a2b0-43a5-b286-9da28c462356",
   "metadata": {},
   "outputs": [],
   "source": [
    "App.run()"
   ]
  },
  {
   "cell_type": "code",
   "execution_count": null,
   "id": "f6e03295-4a8c-4fb6-a1f4-b9a2e64ae8c0",
   "metadata": {},
   "outputs": [],
   "source": []
  }
 ],
 "metadata": {
  "kernelspec": {
   "display_name": "Python 3 (ipykernel)",
   "language": "python",
   "name": "python3"
  },
  "language_info": {
   "codemirror_mode": {
    "name": "ipython",
    "version": 3
   },
   "file_extension": ".py",
   "mimetype": "text/x-python",
   "name": "python",
   "nbconvert_exporter": "python",
   "pygments_lexer": "ipython3",
   "version": "3.10.0"
  }
 },
 "nbformat": 4,
 "nbformat_minor": 5
}
